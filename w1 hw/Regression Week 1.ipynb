{
 "cells": [
  {
   "cell_type": "markdown",
   "metadata": {},
   "source": [
    "## Regression Week 1: Simple Linear Regression Assignment"
   ]
  },
  {
   "cell_type": "code",
   "execution_count": 1,
   "metadata": {
    "collapsed": true
   },
   "outputs": [],
   "source": [
    "import pandas as pd\n",
    "import numpy as np"
   ]
  },
  {
   "cell_type": "code",
   "execution_count": 2,
   "metadata": {
    "collapsed": true
   },
   "outputs": [],
   "source": [
    "# use the following types for columns when importing the csv files\n",
    "dtype_dict = {'bathrooms':float, 'waterfront':int, 'sqft_above':int, 'sqft_living15':float, 'grade':int, 'yr_renovated':int, \n",
    "              'price':float, 'bedrooms':float, 'zipcode':str, 'long':float, 'sqft_lot15':float, 'sqft_living':float, \n",
    "              'floors':str, 'condition':int, 'lat':float, 'date':str, 'sqft_basement':int, 'yr_built':int, 'id':str, \n",
    "              'sqft_lot':int, 'view':int}"
   ]
  },
  {
   "cell_type": "code",
   "execution_count": 3,
   "metadata": {
    "collapsed": true
   },
   "outputs": [],
   "source": [
    "# load all csv files\n",
    "kc_house_data = pd.read_csv('kc_house_data.csv', dtype = dtype_dict)\n",
    "kc_house_train_data = pd.read_csv('kc_house_train_data.csv', dtype = dtype_dict)\n",
    "kc_house_test_data = pd.read_csv('kc_house_test_data.csv', dtype = dtype_dict)"
   ]
  },
  {
   "cell_type": "code",
   "execution_count": 4,
   "metadata": {
    "collapsed": false
   },
   "outputs": [],
   "source": [
    "def simple_linear_regression(data, input_feature, output_feature):\n",
    "    # closed-form solution\n",
    "    x = data[input_feature]\n",
    "    y = data[output_feature]\n",
    "    N = len(x) * 1.0\n",
    "    xy = x * y\n",
    "    xsquared = x ** 2\n",
    "    slope = (xy.sum() - (y.sum() * x.sum() / N)) / (xsquared.sum() - (x.sum() * x.sum() / N))\n",
    "    intercept = y.sum() / N - slope * x.sum() / N\n",
    "    return intercept, slope"
   ]
  },
  {
   "cell_type": "code",
   "execution_count": 5,
   "metadata": {
    "collapsed": false
   },
   "outputs": [],
   "source": [
    "def get_regression_predictions(input_data, intercept, slope):\n",
    "    return slope * input_data + intercept   "
   ]
  },
  {
   "cell_type": "code",
   "execution_count": 6,
   "metadata": {
    "collapsed": true
   },
   "outputs": [],
   "source": [
    "def inverse_regression_predictions(output_data, intercept, slope):\n",
    "    return (output_data - intercept) / slope"
   ]
  },
  {
   "cell_type": "code",
   "execution_count": 7,
   "metadata": {
    "collapsed": true
   },
   "outputs": [],
   "source": [
    "def get_residual_sum_of_squares(data, input_feature, output_feature, intercept, slope):\n",
    "    x = data[input_feature]\n",
    "    y = data[output_feature]\n",
    "    rss = (y - (slope * x + intercept)) ** 2\n",
    "    return rss.sum()"
   ]
  },
  {
   "cell_type": "code",
   "execution_count": 8,
   "metadata": {
    "collapsed": true
   },
   "outputs": [],
   "source": [
    "# def simple_linear_regression2(x, y):\n",
    "#     # closed-form solution\n",
    "#     N = len(x)\n",
    "#     xy = x * y\n",
    "#     xsquared = x * x\n",
    "#     slope = (xy.sum() - y.sum() * x.sum() / N) / (xsquared.sum() - x.sum() * x.sum() / N)\n",
    "#     intercept = y.sum() / N - slope * x.sum() / N\n",
    "#     return intercept, slope"
   ]
  },
  {
   "cell_type": "code",
   "execution_count": 9,
   "metadata": {
    "collapsed": true
   },
   "outputs": [],
   "source": [
    "# def get_residual_sum_of_squares2(x, y, intercept, slope):\n",
    "#     rss = (y - (slope * x + intercept)) ** 2\n",
    "#     return rss.sum()"
   ]
  },
  {
   "cell_type": "code",
   "execution_count": 10,
   "metadata": {
    "collapsed": false
   },
   "outputs": [],
   "source": [
    "# test_input = kc_house_test_data['sqft_living']\n",
    "# test_output = 1 + 1 * test_input;\n",
    "# test_intercept, test_slope = simple_linear_regression2(test_input, test_output)\n",
    "# print(test_intercept, test_slope)"
   ]
  },
  {
   "cell_type": "code",
   "execution_count": 11,
   "metadata": {
    "collapsed": false
   },
   "outputs": [],
   "source": [
    "# test_rss = get_residual_sum_of_squares2(test_input, test_output, 1, 1)\n",
    "# print(test_rss)"
   ]
  },
  {
   "cell_type": "markdown",
   "metadata": {},
   "source": [
    "### Predict house price using squarefeet living"
   ]
  },
  {
   "cell_type": "code",
   "execution_count": 12,
   "metadata": {
    "collapsed": false
   },
   "outputs": [
    {
     "name": "stdout",
     "output_type": "stream",
     "text": [
      "Estimated slope and intercept on the training data to predict price given sqft_living is 281.9588396303426 and -47116.07907289418\n"
     ]
    }
   ],
   "source": [
    "# calculate the estimated slope and intercept on the training data to predict ‘price’ given ‘sqft_living’\n",
    "sf_intercept, sf_slope = simple_linear_regression(kc_house_train_data, 'sqft_living', 'price')\n",
    "print('Estimated slope and intercept on the training data to predict price given sqft_living is', sf_slope, 'and', sf_intercept)"
   ]
  },
  {
   "cell_type": "code",
   "execution_count": 24,
   "metadata": {
    "collapsed": false
   },
   "outputs": [
    {
     "name": "stdout",
     "output_type": "stream",
     "text": [
      "The predicted price for a house with 2650 sqft is 700074.85\n"
     ]
    }
   ],
   "source": [
    "predicted_house_price = get_regression_predictions(2650, sf_intercept, sf_slope)\n",
    "print('The predicted price for a house with 2650 sqft is %.2f' % predicted_house_price)"
   ]
  },
  {
   "cell_type": "code",
   "execution_count": 14,
   "metadata": {
    "collapsed": false
   },
   "outputs": [
    {
     "name": "stdout",
     "output_type": "stream",
     "text": [
      "1.201918E+15\n"
     ]
    }
   ],
   "source": [
    "RSS = get_residual_sum_of_squares(kc_house_train_data, 'sqft_living', 'price', sf_intercept, sf_slope)\n",
    "print('%E' % RSS)"
   ]
  },
  {
   "cell_type": "code",
   "execution_count": 25,
   "metadata": {
    "collapsed": false
   },
   "outputs": [
    {
     "name": "stdout",
     "output_type": "stream",
     "text": [
      "the estimated square-feet for a house costing $800,000 is 3004.40\n"
     ]
    }
   ],
   "source": [
    "predicted_squarefeet = inverse_regression_predictions(800000, sf_intercept, sf_slope)\n",
    "print('the estimated square-feet for a house costing $800,000 is %.2f' % predicted_squarefeet)"
   ]
  },
  {
   "cell_type": "code",
   "execution_count": 16,
   "metadata": {
    "collapsed": true
   },
   "outputs": [],
   "source": [
    "sf_xdata = kc_house_train_data['sqft_living']\n",
    "sf_ydata = get_regression_predictions(sf_xdata, sf_intercept, sf_slope)"
   ]
  },
  {
   "cell_type": "code",
   "execution_count": 17,
   "metadata": {
    "collapsed": true
   },
   "outputs": [],
   "source": [
    "import matplotlib\n",
    "import matplotlib.pyplot as plt\n",
    "%matplotlib inline  "
   ]
  },
  {
   "cell_type": "code",
   "execution_count": 18,
   "metadata": {
    "collapsed": false
   },
   "outputs": [
    {
     "data": {
      "image/png": "[encoded data removed]",
      "text/plain": [
       "<matplotlib.figure.Figure at 0x1cf3407dcf8>"
      ]
     },
     "metadata": {},
     "output_type": "display_data"
    }
   ],
   "source": [
    "fig, ax = plt.subplots()\n",
    "ax.plot(kc_house_train_data['sqft_living'], kc_house_train_data['price'], '.')\n",
    "ax.plot(sf_xdata, sf_ydata)\n",
    "plt.show()"
   ]
  },
  {
   "cell_type": "markdown",
   "metadata": {},
   "source": [
    "### Predict house price using bedrooms"
   ]
  },
  {
   "cell_type": "code",
   "execution_count": 28,
   "metadata": {
    "collapsed": false
   },
   "outputs": [
    {
     "name": "stdout",
     "output_type": "stream",
     "text": [
      "Estimated slope and intercept on the training data to predict price given bedrooms is 127588.95 and 109473.18\n"
     ]
    }
   ],
   "source": [
    "# calculate the estimated slope and intercept on the training data to predict ‘price’ given ‘sqft_living’\n",
    "br_intercept, br_slope = simple_linear_regression(kc_house_train_data, 'bedrooms', 'price')\n",
    "print('Estimated slope and intercept on the training data to predict price given bedrooms is %.2f and %.2f' % (br_slope, br_intercept))"
   ]
  },
  {
   "cell_type": "code",
   "execution_count": 20,
   "metadata": {
    "collapsed": false
   },
   "outputs": [
    {
     "name": "stdout",
     "output_type": "stream",
     "text": [
      "RSS from squarefeet is 2.754029E+14\n",
      "RSS from bedrooms is 4.933646E+14\n"
     ]
    }
   ],
   "source": [
    "RSS_sf = get_residual_sum_of_squares(kc_house_test_data, 'sqft_living', 'price', sf_intercept, sf_slope)\n",
    "RSS_br = get_residual_sum_of_squares(kc_house_test_data, 'bedrooms', 'price', br_intercept, br_slope)\n",
    "print('RSS from squarefeet is %E' % RSS_sf)\n",
    "print('RSS from bedrooms is %E' % RSS_br)"
   ]
  },
  {
   "cell_type": "code",
   "execution_count": 21,
   "metadata": {
    "collapsed": true
   },
   "outputs": [],
   "source": [
    "br_xdata = kc_house_train_data['bedrooms']\n",
    "br_ydata = get_regression_predictions(br_xdata, br_intercept, br_slope)"
   ]
  },
  {
   "cell_type": "code",
   "execution_count": 22,
   "metadata": {
    "collapsed": false
   },
   "outputs": [
    {
     "data": {
      "image/png": "[encoded data removed]",
      "text/plain": [
       "<matplotlib.figure.Figure at 0x1cf341335f8>"
      ]
     },
     "metadata": {},
     "output_type": "display_data"
    }
   ],
   "source": [
    "fig, ax = plt.subplots()\n",
    "ax.plot(kc_house_train_data['bedrooms'], kc_house_train_data['price'], '.')\n",
    "ax.plot(br_xdata, br_ydata)\n",
    "plt.show()"
   ]
  },
  {
   "cell_type": "code",
   "execution_count": null,
   "metadata": {
    "collapsed": true
   },
   "outputs": [],
   "source": []
  }
 ],
 "metadata": {
  "kernelspec": {
   "display_name": "Python 3",
   "language": "python",
   "name": "python3"
  },
  "language_info": {
   "codemirror_mode": {
    "name": "ipython",
    "version": 3
   },
   "file_extension": ".py",
   "mimetype": "text/x-python",
   "name": "python",
   "nbconvert_exporter": "python",
   "pygments_lexer": "ipython3",
   "version": "3.5.2"
  }
 },
 "nbformat": 4,
 "nbformat_minor": 0
}
