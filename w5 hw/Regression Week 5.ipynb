{
 "cells": [
  {
   "cell_type": "code",
   "execution_count": 1,
   "metadata": {
    "collapsed": true
   },
   "outputs": [],
   "source": [
    "import numpy as np\n",
    "import pandas as pd\n",
    "from math import log, sqrt\n",
    "from sklearn import linear_model  # using scikit-learn"
   ]
  },
  {
   "cell_type": "code",
   "execution_count": 2,
   "metadata": {
    "collapsed": true
   },
   "outputs": [],
   "source": [
    "dtype_dict = {'bathrooms':float, 'waterfront':int, 'sqft_above':int, 'sqft_living15':float, 'grade':int, 'yr_renovated':int, \n",
    "              'price':float, 'bedrooms':float, 'zipcode':str, 'long':float, 'sqft_lot15':float, 'sqft_living':float, \n",
    "              'floors':float, 'condition':int, 'lat':float, 'date':str, 'sqft_basement':int, 'yr_built':int, 'id':str, \n",
    "              'sqft_lot':int, 'view':int}\n",
    "\n",
    "sales = pd.read_csv('kc_house_data.csv', dtype=dtype_dict)"
   ]
  },
  {
   "cell_type": "code",
   "execution_count": 3,
   "metadata": {
    "collapsed": true
   },
   "outputs": [],
   "source": [
    "sales['sqft_living_sqrt'] = sales['sqft_living'].apply(sqrt)\n",
    "sales['sqft_lot_sqrt'] = sales['sqft_lot'].apply(sqrt)\n",
    "sales['bedrooms_square'] = sales['bedrooms']*sales['bedrooms']\n",
    "sales['floors_square'] = sales['floors']*sales['floors']"
   ]
  },
  {
   "cell_type": "code",
   "execution_count": 4,
   "metadata": {
    "collapsed": false
   },
   "outputs": [
    {
     "data": {
      "text/plain": [
       "Lasso(alpha=500.0, copy_X=True, fit_intercept=True, max_iter=1000,\n",
       "   normalize=True, positive=False, precompute=False, random_state=None,\n",
       "   selection='cyclic', tol=0.0001, warm_start=False)"
      ]
     },
     "execution_count": 4,
     "metadata": {},
     "output_type": "execute_result"
    }
   ],
   "source": [
    "all_features = ['bedrooms', 'bedrooms_square',\n",
    "            'bathrooms',\n",
    "            'sqft_living', 'sqft_living_sqrt',\n",
    "            'sqft_lot', 'sqft_lot_sqrt',\n",
    "            'floors', 'floors_square',\n",
    "            'waterfront', 'view', 'condition', 'grade',\n",
    "            'sqft_above',\n",
    "            'sqft_basement',\n",
    "            'yr_built', 'yr_renovated']\n",
    "\n",
    "model_all = linear_model.Lasso(alpha=5e2, normalize=True) # set parameters\n",
    "model_all.fit(sales[all_features], sales['price']) # learn weights"
   ]
  },
  {
   "cell_type": "code",
   "execution_count": 5,
   "metadata": {
    "collapsed": false
   },
   "outputs": [
    {
     "data": {
      "text/html": [
       "<div>\n",
       "<table border=\"1\" class=\"dataframe\">\n",
       "  <thead>\n",
       "    <tr style=\"text-align: right;\">\n",
       "      <th></th>\n",
       "      <th>0</th>\n",
       "    </tr>\n",
       "  </thead>\n",
       "  <tbody>\n",
       "    <tr>\n",
       "      <th>bedrooms</th>\n",
       "      <td>0.000000</td>\n",
       "    </tr>\n",
       "    <tr>\n",
       "      <th>bedrooms_square</th>\n",
       "      <td>0.000000</td>\n",
       "    </tr>\n",
       "    <tr>\n",
       "      <th>bathrooms</th>\n",
       "      <td>0.000000</td>\n",
       "    </tr>\n",
       "    <tr>\n",
       "      <th>sqft_living</th>\n",
       "      <td>134.439314</td>\n",
       "    </tr>\n",
       "    <tr>\n",
       "      <th>sqft_living_sqrt</th>\n",
       "      <td>0.000000</td>\n",
       "    </tr>\n",
       "    <tr>\n",
       "      <th>sqft_lot</th>\n",
       "      <td>0.000000</td>\n",
       "    </tr>\n",
       "    <tr>\n",
       "      <th>sqft_lot_sqrt</th>\n",
       "      <td>0.000000</td>\n",
       "    </tr>\n",
       "    <tr>\n",
       "      <th>floors</th>\n",
       "      <td>0.000000</td>\n",
       "    </tr>\n",
       "    <tr>\n",
       "      <th>floors_square</th>\n",
       "      <td>0.000000</td>\n",
       "    </tr>\n",
       "    <tr>\n",
       "      <th>waterfront</th>\n",
       "      <td>0.000000</td>\n",
       "    </tr>\n",
       "    <tr>\n",
       "      <th>view</th>\n",
       "      <td>24750.004586</td>\n",
       "    </tr>\n",
       "    <tr>\n",
       "      <th>condition</th>\n",
       "      <td>0.000000</td>\n",
       "    </tr>\n",
       "    <tr>\n",
       "      <th>grade</th>\n",
       "      <td>61749.103091</td>\n",
       "    </tr>\n",
       "    <tr>\n",
       "      <th>sqft_above</th>\n",
       "      <td>0.000000</td>\n",
       "    </tr>\n",
       "    <tr>\n",
       "      <th>sqft_basement</th>\n",
       "      <td>0.000000</td>\n",
       "    </tr>\n",
       "    <tr>\n",
       "      <th>yr_built</th>\n",
       "      <td>-0.000000</td>\n",
       "    </tr>\n",
       "    <tr>\n",
       "      <th>yr_renovated</th>\n",
       "      <td>0.000000</td>\n",
       "    </tr>\n",
       "  </tbody>\n",
       "</table>\n",
       "</div>"
      ],
      "text/plain": [
       "                             0\n",
       "bedrooms              0.000000\n",
       "bedrooms_square       0.000000\n",
       "bathrooms             0.000000\n",
       "sqft_living         134.439314\n",
       "sqft_living_sqrt      0.000000\n",
       "sqft_lot              0.000000\n",
       "sqft_lot_sqrt         0.000000\n",
       "floors                0.000000\n",
       "floors_square         0.000000\n",
       "waterfront            0.000000\n",
       "view              24750.004586\n",
       "condition             0.000000\n",
       "grade             61749.103091\n",
       "sqft_above            0.000000\n",
       "sqft_basement         0.000000\n",
       "yr_built             -0.000000\n",
       "yr_renovated          0.000000"
      ]
     },
     "execution_count": 5,
     "metadata": {},
     "output_type": "execute_result"
    }
   ],
   "source": [
    "pd.DataFrame(model_all.coef_, all_features)"
   ]
  },
  {
   "cell_type": "code",
   "execution_count": 6,
   "metadata": {
    "collapsed": false
   },
   "outputs": [
    {
     "name": "stdout",
     "output_type": "stream",
     "text": [
      "Number of non-zero weights is 4\n"
     ]
    }
   ],
   "source": [
    "print('Number of non-zero weights is %d' % (np.count_nonzero(model_all.coef_) + np.count_nonzero(model_all.intercept_)))"
   ]
  },
  {
   "cell_type": "code",
   "execution_count": 7,
   "metadata": {
    "collapsed": true
   },
   "outputs": [],
   "source": [
    "testing = pd.read_csv('wk3_kc_house_test_data.csv', dtype=dtype_dict)\n",
    "training = pd.read_csv('wk3_kc_house_train_data.csv', dtype=dtype_dict)\n",
    "validation = pd.read_csv('wk3_kc_house_valid_data.csv', dtype=dtype_dict)"
   ]
  },
  {
   "cell_type": "code",
   "execution_count": 8,
   "metadata": {
    "collapsed": true
   },
   "outputs": [],
   "source": [
    "testing['sqft_living_sqrt'] = testing['sqft_living'].apply(sqrt)\n",
    "testing['sqft_lot_sqrt'] = testing['sqft_lot'].apply(sqrt)\n",
    "testing['bedrooms_square'] = testing['bedrooms']*testing['bedrooms']\n",
    "testing['floors_square'] = testing['floors']*testing['floors']\n",
    "\n",
    "training['sqft_living_sqrt'] = training['sqft_living'].apply(sqrt)\n",
    "training['sqft_lot_sqrt'] = training['sqft_lot'].apply(sqrt)\n",
    "training['bedrooms_square'] = training['bedrooms']*training['bedrooms']\n",
    "training['floors_square'] = training['floors']*training['floors']\n",
    "\n",
    "validation['sqft_living_sqrt'] = validation['sqft_living'].apply(sqrt)\n",
    "validation['sqft_lot_sqrt'] = validation['sqft_lot'].apply(sqrt)\n",
    "validation['bedrooms_square'] = validation['bedrooms']*validation['bedrooms']\n",
    "validation['floors_square'] = validation['floors']*validation['floors']"
   ]
  },
  {
   "cell_type": "code",
   "execution_count": 9,
   "metadata": {
    "collapsed": false
   },
   "outputs": [],
   "source": [
    "l1_penalties = np.logspace(1, 7, num=13)"
   ]
  },
  {
   "cell_type": "markdown",
   "metadata": {},
   "source": [
    "Learn a model on TRAINING data using the specified l1_penalty. Make sure to specify normalize=True in the constructor:"
   ]
  },
  {
   "cell_type": "code",
   "execution_count": 10,
   "metadata": {
    "collapsed": false
   },
   "outputs": [
    {
     "name": "stdout",
     "output_type": "stream",
     "text": [
      "current RSS is 3.982e+14\n",
      "current RSS is 3.990e+14\n",
      "current RSS is 4.298e+14\n",
      "current RSS is 4.637e+14\n",
      "current RSS is 6.459e+14\n",
      "current RSS is 1.223e+15\n",
      "current RSS is 1.223e+15\n",
      "current RSS is 1.223e+15\n",
      "current RSS is 1.223e+15\n",
      "current RSS is 1.223e+15\n",
      "current RSS is 1.223e+15\n",
      "current RSS is 1.223e+15\n",
      "current RSS is 1.223e+15\n",
      "The L1 penalty that gives the minimum RSS is 10.0 with index 0\n"
     ]
    }
   ],
   "source": [
    "min_rss = 1e99\n",
    "min_idx = -1\n",
    "for i in range(0, len(l1_penalties)):\n",
    "    model_train = linear_model.Lasso(alpha=l1_penalties[i], normalize=True)\n",
    "    model_train.fit(training[all_features], training['price']) # learn weights\n",
    "    # Compute the RSS on VALIDATION for the current model (print or save the RSS)\n",
    "    curr_rss = sum((model_train.predict(validation[all_features]) - validation['price']) ** 2)\n",
    "    print('current RSS is %.3e' % curr_rss)\n",
    "    if curr_rss < min_rss:\n",
    "        min_rss = curr_rss\n",
    "        min_idx = i\n",
    "print('The L1 penalty that gives the minimum RSS is %.1f with index %d' % (l1_penalties[min_idx], min_idx))"
   ]
  },
  {
   "cell_type": "code",
   "execution_count": 11,
   "metadata": {
    "collapsed": false
   },
   "outputs": [
    {
     "data": {
      "text/html": [
       "<div>\n",
       "<table border=\"1\" class=\"dataframe\">\n",
       "  <thead>\n",
       "    <tr style=\"text-align: right;\">\n",
       "      <th></th>\n",
       "      <th>0</th>\n",
       "    </tr>\n",
       "  </thead>\n",
       "  <tbody>\n",
       "    <tr>\n",
       "      <th>bedrooms</th>\n",
       "      <td>-16144.562757</td>\n",
       "    </tr>\n",
       "    <tr>\n",
       "      <th>bedrooms_square</th>\n",
       "      <td>373.245384</td>\n",
       "    </tr>\n",
       "    <tr>\n",
       "      <th>bathrooms</th>\n",
       "      <td>50841.243340</td>\n",
       "    </tr>\n",
       "    <tr>\n",
       "      <th>sqft_living</th>\n",
       "      <td>617.853560</td>\n",
       "    </tr>\n",
       "    <tr>\n",
       "      <th>sqft_living_sqrt</th>\n",
       "      <td>-44411.354867</td>\n",
       "    </tr>\n",
       "    <tr>\n",
       "      <th>sqft_lot</th>\n",
       "      <td>0.785623</td>\n",
       "    </tr>\n",
       "    <tr>\n",
       "      <th>sqft_lot_sqrt</th>\n",
       "      <td>-701.194765</td>\n",
       "    </tr>\n",
       "    <tr>\n",
       "      <th>floors</th>\n",
       "      <td>-0.000000</td>\n",
       "    </tr>\n",
       "    <tr>\n",
       "      <th>floors_square</th>\n",
       "      <td>5014.200457</td>\n",
       "    </tr>\n",
       "    <tr>\n",
       "      <th>waterfront</th>\n",
       "      <td>619488.752486</td>\n",
       "    </tr>\n",
       "    <tr>\n",
       "      <th>view</th>\n",
       "      <td>38041.855652</td>\n",
       "    </tr>\n",
       "    <tr>\n",
       "      <th>condition</th>\n",
       "      <td>24998.771838</td>\n",
       "    </tr>\n",
       "    <tr>\n",
       "      <th>grade</th>\n",
       "      <td>128716.234621</td>\n",
       "    </tr>\n",
       "    <tr>\n",
       "      <th>sqft_above</th>\n",
       "      <td>0.000000</td>\n",
       "    </tr>\n",
       "    <tr>\n",
       "      <th>sqft_basement</th>\n",
       "      <td>0.000000</td>\n",
       "    </tr>\n",
       "    <tr>\n",
       "      <th>yr_built</th>\n",
       "      <td>-3293.831180</td>\n",
       "    </tr>\n",
       "    <tr>\n",
       "      <th>yr_renovated</th>\n",
       "      <td>10.057321</td>\n",
       "    </tr>\n",
       "  </tbody>\n",
       "</table>\n",
       "</div>"
      ],
      "text/plain": [
       "                              0\n",
       "bedrooms          -16144.562757\n",
       "bedrooms_square      373.245384\n",
       "bathrooms          50841.243340\n",
       "sqft_living          617.853560\n",
       "sqft_living_sqrt  -44411.354867\n",
       "sqft_lot               0.785623\n",
       "sqft_lot_sqrt       -701.194765\n",
       "floors                -0.000000\n",
       "floors_square       5014.200457\n",
       "waterfront        619488.752486\n",
       "view               38041.855652\n",
       "condition          24998.771838\n",
       "grade             128716.234621\n",
       "sqft_above             0.000000\n",
       "sqft_basement          0.000000\n",
       "yr_built           -3293.831180\n",
       "yr_renovated          10.057321"
      ]
     },
     "execution_count": 11,
     "metadata": {},
     "output_type": "execute_result"
    }
   ],
   "source": [
    "model_best = linear_model.Lasso(alpha=l1_penalties[min_idx], normalize=True)\n",
    "model_best.fit(training[all_features], training['price']) # learn weights\n",
    "pd.DataFrame(model_best.coef_, all_features)"
   ]
  },
  {
   "cell_type": "code",
   "execution_count": 12,
   "metadata": {
    "collapsed": false
   },
   "outputs": [
    {
     "name": "stdout",
     "output_type": "stream",
     "text": [
      "Number of non-zero weights is 15\n"
     ]
    }
   ],
   "source": [
    "print('Number of non-zero weights is %d' % (np.count_nonzero(model_best.coef_) + np.count_nonzero(model_best.intercept_)))"
   ]
  },
  {
   "cell_type": "markdown",
   "metadata": {},
   "source": [
    " What if we absolutely wanted to limit ourselves to, say, 7 features? This may be important if we want to derive \"a rule of thumb\" --- an interpretable model that has only a few features in them.\n",
    "\n",
    "You are going to implement a simple, two phase procedure to achieve this goal:\n",
    "\n",
    "Explore a large range of ‘l1_penalty’ values to find a narrow region of ‘l1_penalty’ values where models are likely to have the desired number of non-zero weights.\n",
    "Further explore the narrow region you found to find a good value for ‘l1_penalty’ that achieves the desired sparsity. Here, we will again use a validation set to choose the best value for ‘l1_penalty’.\n",
    "10. Assign 7 to the variable ‘max_nonzeros’.\n",
    "\n",
    "11. Exploring large range of l1_penalty\n",
    "\n",
    "For l1_penalty in np.logspace(1, 4, num=20):\n",
    "\n",
    "Fit a regression model with a given l1_penalty on TRAIN data. Add \"alpha=l1_penalty\" and \"normalize=True\" to the parameter list."
   ]
  },
  {
   "cell_type": "code",
   "execution_count": 13,
   "metadata": {
    "collapsed": false
   },
   "outputs": [],
   "source": [
    "max_nonzeros = 7\n",
    "l1_penalties = np.logspace(1, 4, num=20)\n",
    "list_nonzeros = []\n",
    "\n",
    "for i in range(0, len(l1_penalties)):\n",
    "    model_train = linear_model.Lasso(alpha=l1_penalties[i], normalize=True)\n",
    "    model_train.fit(training[all_features], training['price']) # learn weights   \n",
    "    num_nonzeros = np.count_nonzero(model_train.coef_) + np.count_nonzero(model_train.intercept_)\n",
    "    list_nonzeros += [num_nonzeros]"
   ]
  },
  {
   "cell_type": "code",
   "execution_count": 14,
   "metadata": {
    "collapsed": false
   },
   "outputs": [],
   "source": [
    "# pd.DataFrame(list_nonzeros, l1_penalties)"
   ]
  },
  {
   "cell_type": "code",
   "execution_count": 15,
   "metadata": {
    "collapsed": false
   },
   "outputs": [
    {
     "name": "stdout",
     "output_type": "stream",
     "text": [
      "L1 penalty greater than 127 will give non-zeros more than 7\n"
     ]
    }
   ],
   "source": [
    "more_nz_idx = np.where(np.array(list_nonzeros) == max_nonzeros)[0] - 1\n",
    "print('L1 penalty greater than %d will give non-zeros more than %d' % (l1_penalties[more_nz_idx], max_nonzeros))"
   ]
  },
  {
   "cell_type": "code",
   "execution_count": 16,
   "metadata": {
    "collapsed": false
   },
   "outputs": [
    {
     "name": "stdout",
     "output_type": "stream",
     "text": [
      "L1 penalty less than 263 will give non-zeros more than 7\n"
     ]
    }
   ],
   "source": [
    "less_nz_idx = np.where(np.array(list_nonzeros) == max_nonzeros)[0] + 1\n",
    "print('L1 penalty less than %d will give non-zeros more than %d' % (l1_penalties[less_nz_idx], max_nonzeros))"
   ]
  },
  {
   "cell_type": "markdown",
   "metadata": {},
   "source": [
    "We now explore the region of l1_penalty we found: between ‘l1_penalty_min’ and ‘l1_penalty_max’. We look for the L1 penalty in this range that produces exactly the right number of nonzeros and also minimizes RSS on the VALIDATION set.\n",
    "\n",
    "For l1_penalty in np.linspace(l1_penalty_min,l1_penalty_max,20):\n",
    "\n",
    "Fit a regression model with a given l1_penalty on TRAIN data. As before, use \"alpha=l1_penalty\" and \"normalize=True\".\n",
    "Measure the RSS of the learned model on the VALIDATION set\n",
    "Find the model that the lowest RSS on the VALIDATION set and has sparsity equal to ‘max_nonzeros’. (Again, take account of the intercept when counting the number of nonzeros.)"
   ]
  },
  {
   "cell_type": "code",
   "execution_count": 17,
   "metadata": {
    "collapsed": false
   },
   "outputs": [
    {
     "name": "stdout",
     "output_type": "stream",
     "text": [
      "current RSS is 4.3537468e+14\n",
      "current RSS is 4.3700923e+14\n",
      "current RSS is 4.3823613e+14\n",
      "current RSS is 4.3915894e+14\n",
      "current RSS is 4.4003737e+14\n",
      "current RSS is 4.4077749e+14\n",
      "current RSS is 4.4156670e+14\n",
      "current RSS is 4.4240641e+14\n",
      "current RSS is 4.4329672e+14\n",
      "current RSS is 4.4423978e+14\n",
      "current RSS is 4.4523074e+14\n",
      "current RSS is 4.4626890e+14\n",
      "current RSS is 4.4711292e+14\n",
      "current RSS is 4.4799819e+14\n",
      "current RSS is 4.4892471e+14\n",
      "current RSS is 4.4989248e+14\n",
      "current RSS is 4.5090150e+14\n",
      "current RSS is 4.5195243e+14\n",
      "current RSS is 4.5304392e+14\n",
      "current RSS is 4.5417667e+14\n",
      "The L1 penalty that gives the minimum RSS is 156 with index 4\n"
     ]
    }
   ],
   "source": [
    "l1_penalty_max = l1_penalties[less_nz_idx]\n",
    "l1_penalty_min = l1_penalties[more_nz_idx]\n",
    "\n",
    "l1_penalties = np.linspace(l1_penalty_min,l1_penalty_max,20)\n",
    "min_rss = 1e99\n",
    "min_idx = -1\n",
    "\n",
    "for i in range(0, len(l1_penalties)):\n",
    "    model_train = linear_model.Lasso(alpha=l1_penalties[i], normalize=True)\n",
    "    model_train.fit(training[all_features], training['price']) # learn weights   \n",
    "    curr_rss = sum((model_train.predict(validation[all_features]) - validation['price']) ** 2)\n",
    "    num_nonzeros = np.count_nonzero(model_train.coef_) + np.count_nonzero(model_train.intercept_)\n",
    "    print('current RSS is %.7e' % curr_rss)\n",
    "    if curr_rss < min_rss and num_nonzeros == max_nonzeros:\n",
    "        min_rss = curr_rss\n",
    "        min_idx = i\n",
    "print('The L1 penalty that gives the minimum RSS is %d with index %d' % (l1_penalties[min_idx], min_idx))"
   ]
  },
  {
   "cell_type": "code",
   "execution_count": 18,
   "metadata": {
    "collapsed": false
   },
   "outputs": [
    {
     "data": {
      "text/html": [
       "<div>\n",
       "<table border=\"1\" class=\"dataframe\">\n",
       "  <thead>\n",
       "    <tr style=\"text-align: right;\">\n",
       "      <th></th>\n",
       "      <th>0</th>\n",
       "    </tr>\n",
       "  </thead>\n",
       "  <tbody>\n",
       "    <tr>\n",
       "      <th>bedrooms</th>\n",
       "      <td>-0.000000</td>\n",
       "    </tr>\n",
       "    <tr>\n",
       "      <th>bedrooms_square</th>\n",
       "      <td>-0.000000</td>\n",
       "    </tr>\n",
       "    <tr>\n",
       "      <th>bathrooms</th>\n",
       "      <td>10610.890284</td>\n",
       "    </tr>\n",
       "    <tr>\n",
       "      <th>sqft_living</th>\n",
       "      <td>163.380252</td>\n",
       "    </tr>\n",
       "    <tr>\n",
       "      <th>sqft_living_sqrt</th>\n",
       "      <td>0.000000</td>\n",
       "    </tr>\n",
       "    <tr>\n",
       "      <th>sqft_lot</th>\n",
       "      <td>-0.000000</td>\n",
       "    </tr>\n",
       "    <tr>\n",
       "      <th>sqft_lot_sqrt</th>\n",
       "      <td>-0.000000</td>\n",
       "    </tr>\n",
       "    <tr>\n",
       "      <th>floors</th>\n",
       "      <td>0.000000</td>\n",
       "    </tr>\n",
       "    <tr>\n",
       "      <th>floors_square</th>\n",
       "      <td>0.000000</td>\n",
       "    </tr>\n",
       "    <tr>\n",
       "      <th>waterfront</th>\n",
       "      <td>506451.687115</td>\n",
       "    </tr>\n",
       "    <tr>\n",
       "      <th>view</th>\n",
       "      <td>41960.043555</td>\n",
       "    </tr>\n",
       "    <tr>\n",
       "      <th>condition</th>\n",
       "      <td>0.000000</td>\n",
       "    </tr>\n",
       "    <tr>\n",
       "      <th>grade</th>\n",
       "      <td>116253.553700</td>\n",
       "    </tr>\n",
       "    <tr>\n",
       "      <th>sqft_above</th>\n",
       "      <td>0.000000</td>\n",
       "    </tr>\n",
       "    <tr>\n",
       "      <th>sqft_basement</th>\n",
       "      <td>0.000000</td>\n",
       "    </tr>\n",
       "    <tr>\n",
       "      <th>yr_built</th>\n",
       "      <td>-2612.234880</td>\n",
       "    </tr>\n",
       "    <tr>\n",
       "      <th>yr_renovated</th>\n",
       "      <td>0.000000</td>\n",
       "    </tr>\n",
       "  </tbody>\n",
       "</table>\n",
       "</div>"
      ],
      "text/plain": [
       "                              0\n",
       "bedrooms              -0.000000\n",
       "bedrooms_square       -0.000000\n",
       "bathrooms          10610.890284\n",
       "sqft_living          163.380252\n",
       "sqft_living_sqrt       0.000000\n",
       "sqft_lot              -0.000000\n",
       "sqft_lot_sqrt         -0.000000\n",
       "floors                 0.000000\n",
       "floors_square          0.000000\n",
       "waterfront        506451.687115\n",
       "view               41960.043555\n",
       "condition              0.000000\n",
       "grade             116253.553700\n",
       "sqft_above             0.000000\n",
       "sqft_basement          0.000000\n",
       "yr_built           -2612.234880\n",
       "yr_renovated           0.000000"
      ]
     },
     "execution_count": 18,
     "metadata": {},
     "output_type": "execute_result"
    }
   ],
   "source": [
    "model_best = linear_model.Lasso(alpha=l1_penalties[min_idx], normalize=True)\n",
    "model_best.fit(training[all_features], training['price']) # learn weights\n",
    "pd.DataFrame(model_best.coef_, all_features)"
   ]
  },
  {
   "cell_type": "code",
   "execution_count": null,
   "metadata": {
    "collapsed": true
   },
   "outputs": [],
   "source": []
  }
 ],
 "metadata": {
  "kernelspec": {
   "display_name": "Python 3",
   "language": "python",
   "name": "python3"
  },
  "language_info": {
   "codemirror_mode": {
    "name": "ipython",
    "version": 3
   },
   "file_extension": ".py",
   "mimetype": "text/x-python",
   "name": "python",
   "nbconvert_exporter": "python",
   "pygments_lexer": "ipython3",
   "version": "3.5.2"
  }
 },
 "nbformat": 4,
 "nbformat_minor": 0
}
