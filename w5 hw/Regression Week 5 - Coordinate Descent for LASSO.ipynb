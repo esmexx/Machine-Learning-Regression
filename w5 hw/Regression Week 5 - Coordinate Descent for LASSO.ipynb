{
 "cells": [
  {
   "cell_type": "code",
   "execution_count": 1,
   "metadata": {
    "collapsed": true
   },
   "outputs": [],
   "source": [
    "import numpy as np\n",
    "import pandas as pd\n",
    "import math"
   ]
  },
  {
   "cell_type": "code",
   "execution_count": 2,
   "metadata": {
    "collapsed": true
   },
   "outputs": [],
   "source": [
    "dtype_dict = {'bathrooms':float, 'waterfront':int, 'sqft_above':int, 'sqft_living15':float, 'grade':int, 'yr_renovated':int, \n",
    "              'price':float, 'bedrooms':float, 'zipcode':str, 'long':float, 'sqft_lot15':float, 'sqft_living':float, \n",
    "              'floors':str, 'condition':int, 'lat':float, 'date':str, 'sqft_basement':int, 'yr_built':int, 'id':str, \n",
    "              'sqft_lot':int, 'view':int}"
   ]
  },
  {
   "cell_type": "code",
   "execution_count": 3,
   "metadata": {
    "collapsed": false
   },
   "outputs": [],
   "source": [
    "sales = pd.read_csv('kc_house_data.csv', dtype=dtype_dict)"
   ]
  },
  {
   "cell_type": "code",
   "execution_count": 4,
   "metadata": {
    "collapsed": true
   },
   "outputs": [],
   "source": [
    "def get_numpy_data(data, features, output):\n",
    "    '''This function returns a ‘feature_matrix’ (2D array) consisting of first a column of ones followed by columns containing \n",
    "    the values of the input features in the data set in the same order as the input list. It also returns an ‘output_array’ \n",
    "    which is an array of the values of the output in the data set (e.g. ‘price’).'''\n",
    "    data['constant'] = np.ones(data[features[0]].shape)\n",
    "    features = ['constant'] + features\n",
    "    feature_matrix = np.array(data[features], dtype=float)\n",
    "    output_array = np.array(data[output], dtype=float)\n",
    "    return feature_matrix, output_array\n",
    "\n",
    "def predict_output(feature_matrix, weights):\n",
    "    predictions = np.dot(feature_matrix, weights)\n",
    "    return predictions\n",
    "\n",
    "def normalize_features(features):\n",
    "    norms = np.linalg.norm(np.array(features), axis=0)\n",
    "    normalized_features = features / norms\n",
    "    return normalized_features, norms"
   ]
  },
  {
   "cell_type": "markdown",
   "metadata": {},
   "source": [
    " We seek to obtain a sparse set of weights by minimizing the LASSO cost function\n",
    " \n",
    " SUM[ (prediction - output)^2 ] + lambda*( |w[1]| + ... + |w[k]|).\n",
    " \n",
    " (By convention, we do not include w[0] in the L1 penalty term. We never want to push the intercept to zero.)"
   ]
  },
  {
   "cell_type": "code",
   "execution_count": 5,
   "metadata": {
    "collapsed": false
   },
   "outputs": [],
   "source": [
    "input_features = ['sqft_living', 'bedrooms']\n",
    "output_features = ['price']\n",
    "feature_matrix, output_array = get_numpy_data(sales, input_features, output_features)\n",
    "normalized_feature_matrix, feature_norms = normalize_features(feature_matrix)\n",
    "\n",
    "initial_weights = np.array((1,4,1))\n",
    "\n",
    "max_iter = 10\n",
    "iterator = 0\n",
    "strength_lambda = 1e5\n",
    "\n",
    "weights = initial_weights\n",
    "all_features = ['constant'] + input_features"
   ]
  },
  {
   "cell_type": "code",
   "execution_count": 6,
   "metadata": {
    "collapsed": false
   },
   "outputs": [],
   "source": [
    "ro = []\n",
    "for j in range(0, len(input_features)+1):\n",
    "    weights_nj = weights\n",
    "    weights_nj[j] = 0.\n",
    "    ro_i = np.dot(normalized_feature_matrix[:,j], \n",
    "                output_array - predict_output(normalized_feature_matrix, weights_nj).reshape(output_array.shape))\n",
    "    ro = ro + [ro_i]"
   ]
  },
  {
   "cell_type": "code",
   "execution_count": 7,
   "metadata": {
    "collapsed": false
   },
   "outputs": [
    {
     "data": {
      "text/html": [
       "<div>\n",
       "<table border=\"1\" class=\"dataframe\">\n",
       "  <thead>\n",
       "    <tr style=\"text-align: right;\">\n",
       "      <th></th>\n",
       "      <th>0</th>\n",
       "    </tr>\n",
       "  </thead>\n",
       "  <tbody>\n",
       "    <tr>\n",
       "      <th>constant</th>\n",
       "      <td>7.940030e+07</td>\n",
       "    </tr>\n",
       "    <tr>\n",
       "      <th>sqft_living</th>\n",
       "      <td>8.793947e+07</td>\n",
       "    </tr>\n",
       "    <tr>\n",
       "      <th>bedrooms</th>\n",
       "      <td>8.096670e+07</td>\n",
       "    </tr>\n",
       "  </tbody>\n",
       "</table>\n",
       "</div>"
      ],
      "text/plain": [
       "                        0\n",
       "constant     7.940030e+07\n",
       "sqft_living  8.793947e+07\n",
       "bedrooms     8.096670e+07"
      ]
     },
     "execution_count": 7,
     "metadata": {},
     "output_type": "execute_result"
    }
   ],
   "source": [
    "pd.DataFrame(ro, all_features)"
   ]
  },
  {
   "cell_type": "markdown",
   "metadata": {},
   "source": [
    "Quiz Question: Recall that, whenever ro[i] falls between -l1_penalty/2 and l1_penalty/2, the corresponding weight w[i] is sent to zero. Now suppose we were to take one step of coordinate descent on either feature 1 or feature 2. What range of values of l1_penalty would not set w[1] zero, but would set w[2] to zero, if we were to take a step in that coordinate?"
   ]
  },
  {
   "cell_type": "markdown",
   "metadata": {},
   "source": [
    "The range is [ ro[2] - lambda/2, ro[2] + lambda/2 ] = [ ro[1], ro[2] + abs(ro[1]-ro[2]) ]"
   ]
  },
  {
   "cell_type": "code",
   "execution_count": 30,
   "metadata": {
    "collapsed": false
   },
   "outputs": [
    {
     "name": "stdout",
     "output_type": "stream",
     "text": [
      "The range of l1 penalty is [1.619e+08, 1.759e+08]\n"
     ]
    }
   ],
   "source": [
    "print('The range of l1 penalty is [%.3e, %.3e]' % ( ro[2]*2, ro[1]*2 ))"
   ]
  },
  {
   "cell_type": "code",
   "execution_count": 10,
   "metadata": {
    "collapsed": false
   },
   "outputs": [],
   "source": [
    "def lasso_coordinate_descent_step(j, feature_matrix, output, weights, l1_penalty):\n",
    "    feature_matrix = np.array(feature_matrix)\n",
    "#     print(feature_matrix[:,0].shape)\n",
    "#     print(np.array(output).reshape(feature_matrix[:,0].shape).shape)\n",
    "#     print(predict_output(feature_matrix, weights).shape)\n",
    "#     print((weights[j] * feature_matrix[:,j]).shape)\n",
    "    ro_j = np.dot(feature_matrix[:,j], (output.reshape(feature_matrix[:,0].shape) - predict_output(feature_matrix, weights).reshape(feature_matrix[:,0].shape) + weights[j] * feature_matrix[:,j]).T)\n",
    "#     print(ro_j.shape)\n",
    "    if j == 0:\n",
    "        new_weight_i = ro_i\n",
    "    elif ro_j < -l1_penalty/2.:\n",
    "        new_weight_i = ro_j + l1_penalty/2.\n",
    "    elif ro_j >  l1_penalty/2.:    \n",
    "        new_weight_i = ro_j - l1_penalty/2.\n",
    "    else:\n",
    "        new_weight_i = 0.\n",
    "    return new_weight_i"
   ]
  },
  {
   "cell_type": "code",
   "execution_count": 11,
   "metadata": {
    "collapsed": false
   },
   "outputs": [],
   "source": [
    "# # should print 0.425558846691\n",
    "# sample_matrix = np.array([[3./math.sqrt(13),1./math.sqrt(10)], [2./math.sqrt(13),3./math.sqrt(10)]])\n",
    "# sample_output = np.array([1., 1.])\n",
    "# sample_weights = np.array([1., 4.])\n",
    "# print(lasso_coordinate_descent_step(1, sample_matrix, sample_output, sample_weights, 0.1))"
   ]
  },
  {
   "cell_type": "code",
   "execution_count": 12,
   "metadata": {
    "collapsed": false
   },
   "outputs": [
    {
     "name": "stdout",
     "output_type": "stream",
     "text": [
      "87939470.7733\n"
     ]
    }
   ],
   "source": [
    "input_features = ['sqft_living', 'bedrooms']\n",
    "output_features = ['price']\n",
    "feature_matrix, output_array = get_numpy_data(sales, input_features, output_features)\n",
    "normalized_feature_matrix, feature_norms = normalize_features(feature_matrix)\n",
    "initial_weights = np.array([1., 4., 1.])\n",
    "\n",
    "print(lasso_coordinate_descent_step(1, normalized_feature_matrix, output_array, initial_weights, 0.1))"
   ]
  },
  {
   "cell_type": "code",
   "execution_count": 13,
   "metadata": {
    "collapsed": true
   },
   "outputs": [],
   "source": [
    "def lasso_cyclical_coordinate_descent(feature_matrix, output, initial_weights, l1_penalty, tolerance):\n",
    "    weights = np.array(initial_weights)\n",
    "    weights_changes = np.ones(initial_weights.shape) * 1e99\n",
    "    max_iter = 1e4\n",
    "    iterator = 0\n",
    "    \n",
    "    while np.max(weights_changes) > tolerance and iterator < max_iter:\n",
    "        for i in range(0, weights.size):\n",
    "            new_weights_i = lasso_coordinate_descent_step(i, feature_matrix, output, weights, l1_penalty)\n",
    "            weights_changes[i] = np.abs(new_weights_i - weights[i])\n",
    "            weights[i] = new_weights_i\n",
    "        if iterator % 25 == 0:\n",
    "            print('#%d iter, max weight change is %.5e' % (iterator, np.max(weights_changes)))\n",
    "        iterator += 1\n",
    "    \n",
    "    print('#%d iter, final max weight change is %.5e' % (iterator, np.max(weights_changes)))\n",
    "    return weights"
   ]
  },
  {
   "cell_type": "code",
   "execution_count": 14,
   "metadata": {
    "collapsed": false
   },
   "outputs": [
    {
     "name": "stdout",
     "output_type": "stream",
     "text": [
      "#0 iter, max weight change is 8.09667e+07\n",
      "#25 iter, max weight change is 2.68623e+04\n",
      "#50 iter, max weight change is 1.48914e+03\n",
      "#75 iter, max weight change is 8.25520e+01\n",
      "#100 iter, max weight change is 4.57635e+00\n",
      "#115 iter, final max weight change is 9.05822e-01\n"
     ]
    }
   ],
   "source": [
    "input_features = ['sqft_living', 'bedrooms']\n",
    "output_features = ['price']\n",
    "feature_matrix, output_array = get_numpy_data(sales, input_features, output_features)\n",
    "normalized_feature_matrix, feature_norms = normalize_features(feature_matrix)\n",
    "\n",
    "initial_weights = np.array([0., 0., 0.])\n",
    "l1_penalty = 1e7\n",
    "tolerance = 1.\n",
    "\n",
    "optimized_weights = lasso_cyclical_coordinate_descent(normalized_feature_matrix, output_array, initial_weights, l1_penalty, tolerance)\n"
   ]
  },
  {
   "cell_type": "code",
   "execution_count": 15,
   "metadata": {
    "collapsed": false
   },
   "outputs": [
    {
     "name": "stdout",
     "output_type": "stream",
     "text": [
      "the RSS of the learned model on the normalized dataset is 2.665e+15\n"
     ]
    }
   ],
   "source": [
    "print('the RSS of the learned model on the normalized dataset is %.3e' \n",
    "      % sum((output_array.reshape(np.array(normalized_feature_matrix)[:,0].shape) - predict_output(normalized_feature_matrix, optimized_weights)) ** 2))"
   ]
  },
  {
   "cell_type": "code",
   "execution_count": 16,
   "metadata": {
    "collapsed": false
   },
   "outputs": [
    {
     "data": {
      "text/html": [
       "<div>\n",
       "<table border=\"1\" class=\"dataframe\">\n",
       "  <thead>\n",
       "    <tr style=\"text-align: right;\">\n",
       "      <th></th>\n",
       "      <th>0</th>\n",
       "    </tr>\n",
       "  </thead>\n",
       "  <tbody>\n",
       "    <tr>\n",
       "      <th>constant</th>\n",
       "      <td>8.096670e+07</td>\n",
       "    </tr>\n",
       "    <tr>\n",
       "      <th>sqft_living</th>\n",
       "      <td>1.282280e+07</td>\n",
       "    </tr>\n",
       "    <tr>\n",
       "      <th>bedrooms</th>\n",
       "      <td>-4.185736e+06</td>\n",
       "    </tr>\n",
       "  </tbody>\n",
       "</table>\n",
       "</div>"
      ],
      "text/plain": [
       "                        0\n",
       "constant     8.096670e+07\n",
       "sqft_living  1.282280e+07\n",
       "bedrooms    -4.185736e+06"
      ]
     },
     "execution_count": 16,
     "metadata": {},
     "output_type": "execute_result"
    }
   ],
   "source": [
    "pd.DataFrame(optimized_weights, all_features)"
   ]
  },
  {
   "cell_type": "markdown",
   "metadata": {},
   "source": [
    "### Evaluating LASSO fit with more features\n"
   ]
  },
  {
   "cell_type": "code",
   "execution_count": 17,
   "metadata": {
    "collapsed": true
   },
   "outputs": [],
   "source": [
    "test = pd.read_csv('kc_house_test_data.csv', dtype=dtype_dict)\n",
    "train = pd.read_csv('kc_house_train_data.csv', dtype=dtype_dict)"
   ]
  },
  {
   "cell_type": "code",
   "execution_count": 18,
   "metadata": {
    "collapsed": false,
    "scrolled": false
   },
   "outputs": [],
   "source": [
    "input_features = ['bedrooms', 'bathrooms', 'sqft_living', 'sqft_lot', 'floors','waterfront', 'view', 'condition', 'grade', 'sqft_above', 'sqft_basement','yr_built', 'yr_renovated']\n",
    "all_features = ['constant'] + input_features\n",
    "output_features = ['price']\n",
    "feature_matrix, output_array = get_numpy_data(train, input_features, output_features)\n",
    "normalized_feature_matrix, feature_norms = normalize_features(feature_matrix)"
   ]
  },
  {
   "cell_type": "code",
   "execution_count": 19,
   "metadata": {
    "collapsed": false
   },
   "outputs": [
    {
     "name": "stdout",
     "output_type": "stream",
     "text": [
      "#0 iter, max weight change is 8.09667e+07\n",
      "#25 iter, max weight change is 5.71037e+05\n",
      "#50 iter, max weight change is 3.47899e+03\n",
      "#75 iter, max weight change is 7.48652e+01\n",
      "#100 iter, max weight change is 1.61096e+00\n",
      "#109 iter, final max weight change is 4.71611e-01\n"
     ]
    },
    {
     "data": {
      "text/html": [
       "<div>\n",
       "<table border=\"1\" class=\"dataframe\">\n",
       "  <thead>\n",
       "    <tr style=\"text-align: right;\">\n",
       "      <th></th>\n",
       "      <th>0</th>\n",
       "    </tr>\n",
       "  </thead>\n",
       "  <tbody>\n",
       "    <tr>\n",
       "      <th>constant</th>\n",
       "      <td>8.096670e+07</td>\n",
       "    </tr>\n",
       "    <tr>\n",
       "      <th>bedrooms</th>\n",
       "      <td>0.000000e+00</td>\n",
       "    </tr>\n",
       "    <tr>\n",
       "      <th>bathrooms</th>\n",
       "      <td>0.000000e+00</td>\n",
       "    </tr>\n",
       "    <tr>\n",
       "      <th>sqft_living</th>\n",
       "      <td>1.874117e+07</td>\n",
       "    </tr>\n",
       "    <tr>\n",
       "      <th>sqft_lot</th>\n",
       "      <td>0.000000e+00</td>\n",
       "    </tr>\n",
       "    <tr>\n",
       "      <th>floors</th>\n",
       "      <td>0.000000e+00</td>\n",
       "    </tr>\n",
       "    <tr>\n",
       "      <th>waterfront</th>\n",
       "      <td>3.486503e+06</td>\n",
       "    </tr>\n",
       "    <tr>\n",
       "      <th>view</th>\n",
       "      <td>8.902526e+06</td>\n",
       "    </tr>\n",
       "    <tr>\n",
       "      <th>condition</th>\n",
       "      <td>0.000000e+00</td>\n",
       "    </tr>\n",
       "    <tr>\n",
       "      <th>grade</th>\n",
       "      <td>0.000000e+00</td>\n",
       "    </tr>\n",
       "    <tr>\n",
       "      <th>sqft_above</th>\n",
       "      <td>0.000000e+00</td>\n",
       "    </tr>\n",
       "    <tr>\n",
       "      <th>sqft_basement</th>\n",
       "      <td>9.865719e+05</td>\n",
       "    </tr>\n",
       "    <tr>\n",
       "      <th>yr_built</th>\n",
       "      <td>-2.543412e+07</td>\n",
       "    </tr>\n",
       "    <tr>\n",
       "      <th>yr_renovated</th>\n",
       "      <td>0.000000e+00</td>\n",
       "    </tr>\n",
       "  </tbody>\n",
       "</table>\n",
       "</div>"
      ],
      "text/plain": [
       "                          0\n",
       "constant       8.096670e+07\n",
       "bedrooms       0.000000e+00\n",
       "bathrooms      0.000000e+00\n",
       "sqft_living    1.874117e+07\n",
       "sqft_lot       0.000000e+00\n",
       "floors         0.000000e+00\n",
       "waterfront     3.486503e+06\n",
       "view           8.902526e+06\n",
       "condition      0.000000e+00\n",
       "grade          0.000000e+00\n",
       "sqft_above     0.000000e+00\n",
       "sqft_basement  9.865719e+05\n",
       "yr_built      -2.543412e+07\n",
       "yr_renovated   0.000000e+00"
      ]
     },
     "execution_count": 19,
     "metadata": {},
     "output_type": "execute_result"
    }
   ],
   "source": [
    "initial_weights = np.zeros([len(input_features)+1, 1])\n",
    "l1_penalty = 1e7\n",
    "tolerance = 0.5\n",
    "\n",
    "weights1e7 = lasso_cyclical_coordinate_descent(normalized_feature_matrix, output_array, initial_weights, l1_penalty, tolerance)\n",
    "pd.DataFrame(weights1e7, all_features)"
   ]
  },
  {
   "cell_type": "code",
   "execution_count": 20,
   "metadata": {
    "collapsed": false
   },
   "outputs": [
    {
     "name": "stdout",
     "output_type": "stream",
     "text": [
      "#0 iter, max weight change is 8.09667e+07\n",
      "#2 iter, final max weight change is 0.00000e+00\n"
     ]
    },
    {
     "data": {
      "text/html": [
       "<div>\n",
       "<table border=\"1\" class=\"dataframe\">\n",
       "  <thead>\n",
       "    <tr style=\"text-align: right;\">\n",
       "      <th></th>\n",
       "      <th>0</th>\n",
       "    </tr>\n",
       "  </thead>\n",
       "  <tbody>\n",
       "    <tr>\n",
       "      <th>constant</th>\n",
       "      <td>8.096670e+07</td>\n",
       "    </tr>\n",
       "    <tr>\n",
       "      <th>bedrooms</th>\n",
       "      <td>0.000000e+00</td>\n",
       "    </tr>\n",
       "    <tr>\n",
       "      <th>bathrooms</th>\n",
       "      <td>0.000000e+00</td>\n",
       "    </tr>\n",
       "    <tr>\n",
       "      <th>sqft_living</th>\n",
       "      <td>0.000000e+00</td>\n",
       "    </tr>\n",
       "    <tr>\n",
       "      <th>sqft_lot</th>\n",
       "      <td>0.000000e+00</td>\n",
       "    </tr>\n",
       "    <tr>\n",
       "      <th>floors</th>\n",
       "      <td>0.000000e+00</td>\n",
       "    </tr>\n",
       "    <tr>\n",
       "      <th>waterfront</th>\n",
       "      <td>0.000000e+00</td>\n",
       "    </tr>\n",
       "    <tr>\n",
       "      <th>view</th>\n",
       "      <td>0.000000e+00</td>\n",
       "    </tr>\n",
       "    <tr>\n",
       "      <th>condition</th>\n",
       "      <td>0.000000e+00</td>\n",
       "    </tr>\n",
       "    <tr>\n",
       "      <th>grade</th>\n",
       "      <td>0.000000e+00</td>\n",
       "    </tr>\n",
       "    <tr>\n",
       "      <th>sqft_above</th>\n",
       "      <td>0.000000e+00</td>\n",
       "    </tr>\n",
       "    <tr>\n",
       "      <th>sqft_basement</th>\n",
       "      <td>0.000000e+00</td>\n",
       "    </tr>\n",
       "    <tr>\n",
       "      <th>yr_built</th>\n",
       "      <td>0.000000e+00</td>\n",
       "    </tr>\n",
       "    <tr>\n",
       "      <th>yr_renovated</th>\n",
       "      <td>0.000000e+00</td>\n",
       "    </tr>\n",
       "  </tbody>\n",
       "</table>\n",
       "</div>"
      ],
      "text/plain": [
       "                          0\n",
       "constant       8.096670e+07\n",
       "bedrooms       0.000000e+00\n",
       "bathrooms      0.000000e+00\n",
       "sqft_living    0.000000e+00\n",
       "sqft_lot       0.000000e+00\n",
       "floors         0.000000e+00\n",
       "waterfront     0.000000e+00\n",
       "view           0.000000e+00\n",
       "condition      0.000000e+00\n",
       "grade          0.000000e+00\n",
       "sqft_above     0.000000e+00\n",
       "sqft_basement  0.000000e+00\n",
       "yr_built       0.000000e+00\n",
       "yr_renovated   0.000000e+00"
      ]
     },
     "execution_count": 20,
     "metadata": {},
     "output_type": "execute_result"
    }
   ],
   "source": [
    "initial_weights = np.zeros([len(input_features)+1, 1])\n",
    "l1_penalty = 1e8\n",
    "tolerance = 1.\n",
    "\n",
    "weights1e8 = lasso_cyclical_coordinate_descent(normalized_feature_matrix, output_array, initial_weights, l1_penalty, tolerance)\n",
    "pd.DataFrame(weights1e8, all_features)"
   ]
  },
  {
   "cell_type": "code",
   "execution_count": 21,
   "metadata": {
    "collapsed": false
   },
   "outputs": [
    {
     "name": "stdout",
     "output_type": "stream",
     "text": [
      "#0 iter, max weight change is 8.09667e+07\n",
      "#25 iter, max weight change is 1.03925e+06\n",
      "#50 iter, max weight change is 8.09789e+05\n",
      "#75 iter, max weight change is 6.11379e+05\n",
      "#100 iter, max weight change is 4.96768e+05\n",
      "#101 iter, final max weight change is 4.96768e+05\n"
     ]
    },
    {
     "data": {
      "text/html": [
       "<div>\n",
       "<table border=\"1\" class=\"dataframe\">\n",
       "  <thead>\n",
       "    <tr style=\"text-align: right;\">\n",
       "      <th></th>\n",
       "      <th>0</th>\n",
       "    </tr>\n",
       "  </thead>\n",
       "  <tbody>\n",
       "    <tr>\n",
       "      <th>constant</th>\n",
       "      <td>8.096670e+07</td>\n",
       "    </tr>\n",
       "    <tr>\n",
       "      <th>bedrooms</th>\n",
       "      <td>-2.066352e+07</td>\n",
       "    </tr>\n",
       "    <tr>\n",
       "      <th>bathrooms</th>\n",
       "      <td>1.270318e+07</td>\n",
       "    </tr>\n",
       "    <tr>\n",
       "      <th>sqft_living</th>\n",
       "      <td>9.750130e+07</td>\n",
       "    </tr>\n",
       "    <tr>\n",
       "      <th>sqft_lot</th>\n",
       "      <td>-1.961819e+06</td>\n",
       "    </tr>\n",
       "    <tr>\n",
       "      <th>floors</th>\n",
       "      <td>-3.495361e+06</td>\n",
       "    </tr>\n",
       "    <tr>\n",
       "      <th>waterfront</th>\n",
       "      <td>6.497286e+06</td>\n",
       "    </tr>\n",
       "    <tr>\n",
       "      <th>view</th>\n",
       "      <td>7.102041e+06</td>\n",
       "    </tr>\n",
       "    <tr>\n",
       "      <th>condition</th>\n",
       "      <td>6.708526e+06</td>\n",
       "    </tr>\n",
       "    <tr>\n",
       "      <th>grade</th>\n",
       "      <td>1.652119e+07</td>\n",
       "    </tr>\n",
       "    <tr>\n",
       "      <th>sqft_above</th>\n",
       "      <td>-1.983025e+07</td>\n",
       "    </tr>\n",
       "    <tr>\n",
       "      <th>sqft_basement</th>\n",
       "      <td>-6.208879e+06</td>\n",
       "    </tr>\n",
       "    <tr>\n",
       "      <th>yr_built</th>\n",
       "      <td>-9.185476e+07</td>\n",
       "    </tr>\n",
       "    <tr>\n",
       "      <th>yr_renovated</th>\n",
       "      <td>2.833510e+06</td>\n",
       "    </tr>\n",
       "  </tbody>\n",
       "</table>\n",
       "</div>"
      ],
      "text/plain": [
       "                          0\n",
       "constant       8.096670e+07\n",
       "bedrooms      -2.066352e+07\n",
       "bathrooms      1.270318e+07\n",
       "sqft_living    9.750130e+07\n",
       "sqft_lot      -1.961819e+06\n",
       "floors        -3.495361e+06\n",
       "waterfront     6.497286e+06\n",
       "view           7.102041e+06\n",
       "condition      6.708526e+06\n",
       "grade          1.652119e+07\n",
       "sqft_above    -1.983025e+07\n",
       "sqft_basement -6.208879e+06\n",
       "yr_built      -9.185476e+07\n",
       "yr_renovated   2.833510e+06"
      ]
     },
     "execution_count": 21,
     "metadata": {},
     "output_type": "execute_result"
    }
   ],
   "source": [
    "initial_weights = np.zeros([len(input_features)+1, 1])\n",
    "l1_penalty = 1e4\n",
    "tolerance = 5e5\n",
    "\n",
    "weights1e4 = lasso_cyclical_coordinate_descent(normalized_feature_matrix, output_array, initial_weights, l1_penalty, tolerance)\n",
    "pd.DataFrame(weights1e4, all_features)"
   ]
  },
  {
   "cell_type": "markdown",
   "metadata": {},
   "source": [
    "### Rescaling learned weights"
   ]
  },
  {
   "cell_type": "code",
   "execution_count": 22,
   "metadata": {
    "collapsed": true
   },
   "outputs": [],
   "source": [
    "normalized_weights1e7 = weights1e7 / feature_norms.reshape(weights1e7.shape)\n",
    "normalized_weights1e8 = weights1e8 / feature_norms.reshape(weights1e7.shape)\n",
    "normalized_weights1e4 = weights1e4 / feature_norms.reshape(weights1e7.shape)"
   ]
  },
  {
   "cell_type": "code",
   "execution_count": 23,
   "metadata": {
    "collapsed": false
   },
   "outputs": [
    {
     "name": "stdout",
     "output_type": "stream",
     "text": [
      "[ 62.47837879]\n"
     ]
    }
   ],
   "source": [
    "print(normalized_weights1e7[3])"
   ]
  },
  {
   "cell_type": "code",
   "execution_count": 24,
   "metadata": {
    "collapsed": true
   },
   "outputs": [],
   "source": [
    "feature_matrix, output_array = get_numpy_data(test, input_features, output_features)"
   ]
  },
  {
   "cell_type": "code",
   "execution_count": 25,
   "metadata": {
    "collapsed": false
   },
   "outputs": [
    {
     "data": {
      "text/plain": [
       "array([  3.69143815e+14])"
      ]
     },
     "execution_count": 25,
     "metadata": {},
     "output_type": "execute_result"
    }
   ],
   "source": [
    "rss1e7 = sum((output_array - predict_output(feature_matrix, normalized_weights1e7)) ** 2)\n",
    "rss1e7"
   ]
  },
  {
   "cell_type": "code",
   "execution_count": 26,
   "metadata": {
    "collapsed": false
   },
   "outputs": [
    {
     "data": {
      "text/plain": [
       "array([  5.58448276e+14])"
      ]
     },
     "execution_count": 26,
     "metadata": {},
     "output_type": "execute_result"
    }
   ],
   "source": [
    "rss1e8 = sum((output_array - predict_output(feature_matrix, normalized_weights1e8)) ** 2)\n",
    "rss1e8"
   ]
  },
  {
   "cell_type": "code",
   "execution_count": 27,
   "metadata": {
    "collapsed": false
   },
   "outputs": [
    {
     "data": {
      "text/plain": [
       "array([  2.26564077e+14])"
      ]
     },
     "execution_count": 27,
     "metadata": {},
     "output_type": "execute_result"
    }
   ],
   "source": [
    "rss1e4 = sum((output_array - predict_output(feature_matrix, normalized_weights1e4)) ** 2)\n",
    "rss1e4"
   ]
  },
  {
   "cell_type": "code",
   "execution_count": 28,
   "metadata": {
    "collapsed": false
   },
   "outputs": [],
   "source": [
    "# while iterator < max_iter:\n",
    "#     for j in range(0, len(input_features)+1):\n",
    "#         weights_nj = weights\n",
    "#         weights_nj[j] = 0.\n",
    "#         ro = np.dot(normalized_feature_matrix[all_features[j]], \n",
    "#                     output_array - predict_output(normalized_feature_matrix, weights_nj).reshape(output_array.shape))\n",
    "#         if j == 0:\n",
    "#             weights[j] = ro\n",
    "#         else:\n",
    "#             if ro < -strength_lambda/2.:\n",
    "#                 weights[j] = ro + strength_lambda/2.\n",
    "#             elif ro > strength_lambda/2.:\n",
    "#                 weights[j] = ro - strength_lambda/2.  \n",
    "#             else:\n",
    "#                 weights[j] = 0.          \n",
    "#     iterator += 1\n",
    "\n",
    "# def lasso_coordinate_descent_step(j, normalized_feature_matrix, all_features, output, weights, l1_penalty):\n",
    "#     weights_nj = weights\n",
    "#     weights_nj[j] = 0.\n",
    "#     ro_i = np.dot(normalized_feature_matrix[all_features[j]], output - predict_output(normalized_feature_matrix, weights_nj).reshape(output_array.shape))\n",
    "    \n",
    "#     if j == 0:\n",
    "#         new_weight_i = ro_i\n",
    "#     elif ro_i < -l1_penalty/2.:\n",
    "#         new_weight_i = ro + l1_penalty/2.\n",
    "#     elif ro_i >  l1_penalty/2.:    \n",
    "#         new_weight_i = ro - l1_penalty/2.\n",
    "#     else:\n",
    "#         new_weight_i = 0.\n",
    "#     return new_weight_i"
   ]
  },
  {
   "cell_type": "code",
   "execution_count": null,
   "metadata": {
    "collapsed": true
   },
   "outputs": [],
   "source": []
  }
 ],
 "metadata": {
  "kernelspec": {
   "display_name": "Python 3",
   "language": "python",
   "name": "python3"
  },
  "language_info": {
   "codemirror_mode": {
    "name": "ipython",
    "version": 3
   },
   "file_extension": ".py",
   "mimetype": "text/x-python",
   "name": "python",
   "nbconvert_exporter": "python",
   "pygments_lexer": "ipython3",
   "version": "3.5.2"
  }
 },
 "nbformat": 4,
 "nbformat_minor": 0
}
