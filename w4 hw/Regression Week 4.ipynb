{
 "cells": [
  {
   "cell_type": "code",
   "execution_count": 1,
   "metadata": {
    "collapsed": true
   },
   "outputs": [],
   "source": [
    "from sklearn import linear_model\n",
    "import numpy as np\n",
    "import pandas as pd\n",
    "import matplotlib.pyplot as plt\n",
    "%matplotlib inline\n",
    "\n",
    "dtype_dict = {'bathrooms':float, 'waterfront':int, 'sqft_above':int, 'sqft_living15':float, 'grade':int, 'yr_renovated':int, \n",
    "              'price':float, 'bedrooms':float, 'zipcode':str, 'long':float, 'sqft_lot15':float, 'sqft_living':float, \n",
    "              'floors':float, 'condition':int, 'lat':float, 'date':str, 'sqft_basement':int, 'yr_built':int, 'id':str, \n",
    "              'sqft_lot':int, 'view':int}"
   ]
  },
  {
   "cell_type": "code",
   "execution_count": 2,
   "metadata": {
    "collapsed": false
   },
   "outputs": [
    {
     "name": "stderr",
     "output_type": "stream",
     "text": [
      "C:\\Users\\Xiaoxuan\\Anaconda2\\envs\\py33\\lib\\site-packages\\ipykernel\\__main__.py:2: FutureWarning: sort(columns=....) is deprecated, use sort_values(by=.....)\n",
      "  from ipykernel import kernelapp as app\n"
     ]
    }
   ],
   "source": [
    "sales = pd.read_csv('kc_house_data.csv', dtype=dtype_dict)\n",
    "sales = sales.sort(['sqft_living','price'])"
   ]
  },
  {
   "cell_type": "code",
   "execution_count": 3,
   "metadata": {
    "collapsed": true
   },
   "outputs": [],
   "source": [
    "def polynomial_sframe(feature, degree):\n",
    "    poly_dataframe = pd.DataFrame()\n",
    "    poly_dataframe['power_1'] = feature\n",
    "    if degree > 1:\n",
    "        for power in range(2, degree+1):\n",
    "            name = 'power_' + str(power)\n",
    "            poly_dataframe[name] = feature.apply(lambda x: x ** power)\n",
    "    return poly_dataframe"
   ]
  },
  {
   "cell_type": "markdown",
   "metadata": {},
   "source": [
    "### Ridge Regression with L2 Penalty"
   ]
  },
  {
   "cell_type": "code",
   "execution_count": 4,
   "metadata": {
    "collapsed": false
   },
   "outputs": [
    {
     "data": {
      "text/plain": [
       "Ridge(alpha=1.5e-05, copy_X=True, fit_intercept=True, max_iter=None,\n",
       "   normalize=True, random_state=None, solver='auto', tol=0.001)"
      ]
     },
     "execution_count": 4,
     "metadata": {},
     "output_type": "execute_result"
    }
   ],
   "source": [
    "l2_small_penalty = 1.5e-5\n",
    "\n",
    "poly15_data = polynomial_sframe(sales['sqft_living'], 15) # use equivalent of `polynomial_sframe`\n",
    "model = linear_model.Ridge(alpha=l2_small_penalty, normalize=True)\n",
    "model.fit(poly15_data, sales['price'])"
   ]
  },
  {
   "cell_type": "code",
   "execution_count": 5,
   "metadata": {
    "collapsed": false
   },
   "outputs": [],
   "source": [
    "# help(linear_model.ridge)"
   ]
  },
  {
   "cell_type": "code",
   "execution_count": 6,
   "metadata": {
    "collapsed": false
   },
   "outputs": [
    {
     "data": {
      "text/html": [
       "<div>\n",
       "<table border=\"1\" class=\"dataframe\">\n",
       "  <thead>\n",
       "    <tr style=\"text-align: right;\">\n",
       "      <th></th>\n",
       "      <th>0</th>\n",
       "    </tr>\n",
       "  </thead>\n",
       "  <tbody>\n",
       "    <tr>\n",
       "      <th>power_1</th>\n",
       "      <td>1.248733e+02</td>\n",
       "    </tr>\n",
       "    <tr>\n",
       "      <th>power_2</th>\n",
       "      <td>-4.773760e-02</td>\n",
       "    </tr>\n",
       "    <tr>\n",
       "      <th>power_3</th>\n",
       "      <td>3.014462e-05</td>\n",
       "    </tr>\n",
       "    <tr>\n",
       "      <th>power_4</th>\n",
       "      <td>-2.444199e-09</td>\n",
       "    </tr>\n",
       "    <tr>\n",
       "      <th>power_5</th>\n",
       "      <td>-1.941537e-13</td>\n",
       "    </tr>\n",
       "    <tr>\n",
       "      <th>power_6</th>\n",
       "      <td>8.540857e-18</td>\n",
       "    </tr>\n",
       "    <tr>\n",
       "      <th>power_7</th>\n",
       "      <td>1.511421e-21</td>\n",
       "    </tr>\n",
       "    <tr>\n",
       "      <th>power_8</th>\n",
       "      <td>8.279791e-26</td>\n",
       "    </tr>\n",
       "    <tr>\n",
       "      <th>power_9</th>\n",
       "      <td>6.526031e-31</td>\n",
       "    </tr>\n",
       "    <tr>\n",
       "      <th>power_10</th>\n",
       "      <td>-3.278950e-34</td>\n",
       "    </tr>\n",
       "    <tr>\n",
       "      <th>power_11</th>\n",
       "      <td>-3.879623e-38</td>\n",
       "    </tr>\n",
       "    <tr>\n",
       "      <th>power_12</th>\n",
       "      <td>-2.724376e-42</td>\n",
       "    </tr>\n",
       "    <tr>\n",
       "      <th>power_13</th>\n",
       "      <td>-1.077908e-46</td>\n",
       "    </tr>\n",
       "    <tr>\n",
       "      <th>power_14</th>\n",
       "      <td>3.782427e-51</td>\n",
       "    </tr>\n",
       "    <tr>\n",
       "      <th>power_15</th>\n",
       "      <td>1.397903e-54</td>\n",
       "    </tr>\n",
       "  </tbody>\n",
       "</table>\n",
       "</div>"
      ],
      "text/plain": [
       "                     0\n",
       "power_1   1.248733e+02\n",
       "power_2  -4.773760e-02\n",
       "power_3   3.014462e-05\n",
       "power_4  -2.444199e-09\n",
       "power_5  -1.941537e-13\n",
       "power_6   8.540857e-18\n",
       "power_7   1.511421e-21\n",
       "power_8   8.279791e-26\n",
       "power_9   6.526031e-31\n",
       "power_10 -3.278950e-34\n",
       "power_11 -3.879623e-38\n",
       "power_12 -2.724376e-42\n",
       "power_13 -1.077908e-46\n",
       "power_14  3.782427e-51\n",
       "power_15  1.397903e-54"
      ]
     },
     "execution_count": 6,
     "metadata": {},
     "output_type": "execute_result"
    }
   ],
   "source": [
    "pd.DataFrame(model.coef_, poly15_data.columns)"
   ]
  },
  {
   "cell_type": "code",
   "execution_count": 7,
   "metadata": {
    "collapsed": true
   },
   "outputs": [],
   "source": [
    "# dtype_dict same as above\n",
    "set_1 = pd.read_csv('wk3_kc_house_set_1_data.csv', dtype=dtype_dict)\n",
    "set_2 = pd.read_csv('wk3_kc_house_set_2_data.csv', dtype=dtype_dict)\n",
    "set_3 = pd.read_csv('wk3_kc_house_set_3_data.csv', dtype=dtype_dict)\n",
    "set_4 = pd.read_csv('wk3_kc_house_set_4_data.csv', dtype=dtype_dict)"
   ]
  },
  {
   "cell_type": "code",
   "execution_count": 8,
   "metadata": {
    "collapsed": true
   },
   "outputs": [],
   "source": [
    "def ridge_regression_on_poly15(data, l2_penalty):\n",
    "    poly15_data = polynomial_sframe(data['sqft_living'], 15)\n",
    "    model = linear_model.Ridge(alpha=l2_penalty, normalize=True)\n",
    "    model.fit(poly15_data, data['price'])\n",
    "    return model.coef_"
   ]
  },
  {
   "cell_type": "code",
   "execution_count": 9,
   "metadata": {
    "collapsed": false
   },
   "outputs": [],
   "source": [
    "l2_small_penalty=1e-9\n",
    "\n",
    "coeffs = ridge_regression_on_poly15(set_1, l2_small_penalty).reshape(15,1)\n",
    "coeffs = np.hstack((coeffs, ridge_regression_on_poly15(set_2, l2_small_penalty).reshape(15,1))) \n",
    "coeffs = np.hstack((coeffs, ridge_regression_on_poly15(set_3, l2_small_penalty).reshape(15,1))) \n",
    "coeffs = np.hstack((coeffs, ridge_regression_on_poly15(set_4, l2_small_penalty).reshape(15,1))) "
   ]
  },
  {
   "cell_type": "code",
   "execution_count": 10,
   "metadata": {
    "collapsed": false
   },
   "outputs": [
    {
     "data": {
      "text/html": [
       "<div>\n",
       "<table border=\"1\" class=\"dataframe\">\n",
       "  <thead>\n",
       "    <tr style=\"text-align: right;\">\n",
       "      <th></th>\n",
       "      <th>0</th>\n",
       "      <th>1</th>\n",
       "      <th>2</th>\n",
       "      <th>3</th>\n",
       "    </tr>\n",
       "  </thead>\n",
       "  <tbody>\n",
       "    <tr>\n",
       "      <th>power_1</th>\n",
       "      <td>5.446694e+02</td>\n",
       "      <td>8.593626e+02</td>\n",
       "      <td>-7.553960e+02</td>\n",
       "      <td>1.119446e+03</td>\n",
       "    </tr>\n",
       "    <tr>\n",
       "      <th>power_2</th>\n",
       "      <td>-3.554476e-01</td>\n",
       "      <td>-8.181183e-01</td>\n",
       "      <td>9.755796e-01</td>\n",
       "      <td>-9.837602e-01</td>\n",
       "    </tr>\n",
       "    <tr>\n",
       "      <th>power_3</th>\n",
       "      <td>1.224464e-04</td>\n",
       "      <td>4.288800e-04</td>\n",
       "      <td>-4.589460e-04</td>\n",
       "      <td>3.387709e-04</td>\n",
       "    </tr>\n",
       "    <tr>\n",
       "      <th>power_4</th>\n",
       "      <td>-1.171753e-08</td>\n",
       "      <td>-9.127706e-08</td>\n",
       "      <td>7.779582e-08</td>\n",
       "      <td>3.603772e-08</td>\n",
       "    </tr>\n",
       "    <tr>\n",
       "      <th>power_5</th>\n",
       "      <td>-3.905125e-13</td>\n",
       "      <td>-2.696045e-12</td>\n",
       "      <td>7.150130e-12</td>\n",
       "      <td>-4.378140e-11</td>\n",
       "    </tr>\n",
       "    <tr>\n",
       "      <th>power_6</th>\n",
       "      <td>-1.390761e-17</td>\n",
       "      <td>3.739803e-15</td>\n",
       "      <td>-2.886019e-15</td>\n",
       "      <td>5.771917e-15</td>\n",
       "    </tr>\n",
       "    <tr>\n",
       "      <th>power_7</th>\n",
       "      <td>1.478603e-20</td>\n",
       "      <td>-1.427118e-19</td>\n",
       "      <td>-2.136780e-20</td>\n",
       "      <td>7.667953e-19</td>\n",
       "    </tr>\n",
       "    <tr>\n",
       "      <th>power_8</th>\n",
       "      <td>6.874920e-25</td>\n",
       "      <td>-6.307948e-23</td>\n",
       "      <td>3.380852e-23</td>\n",
       "      <td>-9.492978e-23</td>\n",
       "    </tr>\n",
       "    <tr>\n",
       "      <th>power_9</th>\n",
       "      <td>-7.572042e-29</td>\n",
       "      <td>-1.445596e-27</td>\n",
       "      <td>2.191781e-27</td>\n",
       "      <td>-1.960308e-26</td>\n",
       "    </tr>\n",
       "    <tr>\n",
       "      <th>power_10</th>\n",
       "      <td>-1.040973e-32</td>\n",
       "      <td>7.443213e-31</td>\n",
       "      <td>-1.970677e-31</td>\n",
       "      <td>-2.108804e-32</td>\n",
       "    </tr>\n",
       "    <tr>\n",
       "      <th>power_11</th>\n",
       "      <td>-3.718439e-37</td>\n",
       "      <td>9.258660e-35</td>\n",
       "      <td>-4.159931e-35</td>\n",
       "      <td>3.310051e-34</td>\n",
       "    </tr>\n",
       "    <tr>\n",
       "      <th>power_12</th>\n",
       "      <td>3.399893e-41</td>\n",
       "      <td>3.279983e-41</td>\n",
       "      <td>-1.801963e-39</td>\n",
       "      <td>3.477338e-38</td>\n",
       "    </tr>\n",
       "    <tr>\n",
       "      <th>power_13</th>\n",
       "      <td>5.565920e-45</td>\n",
       "      <td>-1.295435e-42</td>\n",
       "      <td>3.190711e-43</td>\n",
       "      <td>-2.430392e-42</td>\n",
       "    </tr>\n",
       "    <tr>\n",
       "      <th>power_14</th>\n",
       "      <td>2.537613e-49</td>\n",
       "      <td>-1.387813e-46</td>\n",
       "      <td>5.084570e-47</td>\n",
       "      <td>-8.795533e-46</td>\n",
       "    </tr>\n",
       "    <tr>\n",
       "      <th>power_15</th>\n",
       "      <td>-3.351529e-53</td>\n",
       "      <td>1.665465e-50</td>\n",
       "      <td>-3.933043e-51</td>\n",
       "      <td>6.445697e-50</td>\n",
       "    </tr>\n",
       "  </tbody>\n",
       "</table>\n",
       "</div>"
      ],
      "text/plain": [
       "                     0             1             2             3\n",
       "power_1   5.446694e+02  8.593626e+02 -7.553960e+02  1.119446e+03\n",
       "power_2  -3.554476e-01 -8.181183e-01  9.755796e-01 -9.837602e-01\n",
       "power_3   1.224464e-04  4.288800e-04 -4.589460e-04  3.387709e-04\n",
       "power_4  -1.171753e-08 -9.127706e-08  7.779582e-08  3.603772e-08\n",
       "power_5  -3.905125e-13 -2.696045e-12  7.150130e-12 -4.378140e-11\n",
       "power_6  -1.390761e-17  3.739803e-15 -2.886019e-15  5.771917e-15\n",
       "power_7   1.478603e-20 -1.427118e-19 -2.136780e-20  7.667953e-19\n",
       "power_8   6.874920e-25 -6.307948e-23  3.380852e-23 -9.492978e-23\n",
       "power_9  -7.572042e-29 -1.445596e-27  2.191781e-27 -1.960308e-26\n",
       "power_10 -1.040973e-32  7.443213e-31 -1.970677e-31 -2.108804e-32\n",
       "power_11 -3.718439e-37  9.258660e-35 -4.159931e-35  3.310051e-34\n",
       "power_12  3.399893e-41  3.279983e-41 -1.801963e-39  3.477338e-38\n",
       "power_13  5.565920e-45 -1.295435e-42  3.190711e-43 -2.430392e-42\n",
       "power_14  2.537613e-49 -1.387813e-46  5.084570e-47 -8.795533e-46\n",
       "power_15 -3.351529e-53  1.665465e-50 -3.933043e-51  6.445697e-50"
      ]
     },
     "execution_count": 10,
     "metadata": {},
     "output_type": "execute_result"
    }
   ],
   "source": [
    "pd.DataFrame(coeffs, poly15_data.columns)"
   ]
  },
  {
   "cell_type": "code",
   "execution_count": 11,
   "metadata": {
    "collapsed": true
   },
   "outputs": [],
   "source": [
    "l2_small_penalty=1.23e2\n",
    "\n",
    "coeffs = ridge_regression_on_poly15(set_1, l2_small_penalty).reshape(15,1)\n",
    "coeffs = np.hstack((coeffs, ridge_regression_on_poly15(set_2, l2_small_penalty).reshape(15,1))) \n",
    "coeffs = np.hstack((coeffs, ridge_regression_on_poly15(set_3, l2_small_penalty).reshape(15,1))) \n",
    "coeffs = np.hstack((coeffs, ridge_regression_on_poly15(set_4, l2_small_penalty).reshape(15,1))) "
   ]
  },
  {
   "cell_type": "code",
   "execution_count": 12,
   "metadata": {
    "collapsed": false
   },
   "outputs": [
    {
     "data": {
      "text/html": [
       "<div>\n",
       "<table border=\"1\" class=\"dataframe\">\n",
       "  <thead>\n",
       "    <tr style=\"text-align: right;\">\n",
       "      <th></th>\n",
       "      <th>0</th>\n",
       "      <th>1</th>\n",
       "      <th>2</th>\n",
       "      <th>3</th>\n",
       "    </tr>\n",
       "  </thead>\n",
       "  <tbody>\n",
       "    <tr>\n",
       "      <th>power_1</th>\n",
       "      <td>2.328068e+00</td>\n",
       "      <td>2.097569e+00</td>\n",
       "      <td>2.289063e+00</td>\n",
       "      <td>2.085962e+00</td>\n",
       "    </tr>\n",
       "    <tr>\n",
       "      <th>power_2</th>\n",
       "      <td>3.536216e-04</td>\n",
       "      <td>3.908175e-04</td>\n",
       "      <td>4.124722e-04</td>\n",
       "      <td>4.050358e-04</td>\n",
       "    </tr>\n",
       "    <tr>\n",
       "      <th>power_3</th>\n",
       "      <td>3.319697e-08</td>\n",
       "      <td>6.671899e-08</td>\n",
       "      <td>6.088353e-08</td>\n",
       "      <td>7.468646e-08</td>\n",
       "    </tr>\n",
       "    <tr>\n",
       "      <th>power_4</th>\n",
       "      <td>2.000825e-12</td>\n",
       "      <td>8.900030e-12</td>\n",
       "      <td>6.585722e-12</td>\n",
       "      <td>1.130966e-11</td>\n",
       "    </tr>\n",
       "    <tr>\n",
       "      <th>power_5</th>\n",
       "      <td>1.114926e-16</td>\n",
       "      <td>9.726399e-16</td>\n",
       "      <td>6.152782e-16</td>\n",
       "      <td>1.458644e-15</td>\n",
       "    </tr>\n",
       "    <tr>\n",
       "      <th>power_6</th>\n",
       "      <td>6.577861e-21</td>\n",
       "      <td>9.697337e-20</td>\n",
       "      <td>5.644466e-20</td>\n",
       "      <td>1.735613e-19</td>\n",
       "    </tr>\n",
       "    <tr>\n",
       "      <th>power_7</th>\n",
       "      <td>4.129395e-25</td>\n",
       "      <td>9.505645e-24</td>\n",
       "      <td>5.288344e-24</td>\n",
       "      <td>2.016096e-23</td>\n",
       "    </tr>\n",
       "    <tr>\n",
       "      <th>power_8</th>\n",
       "      <td>2.703938e-29</td>\n",
       "      <td>9.444910e-28</td>\n",
       "      <td>5.070914e-28</td>\n",
       "      <td>2.346053e-27</td>\n",
       "    </tr>\n",
       "    <tr>\n",
       "      <th>power_9</th>\n",
       "      <td>1.816148e-33</td>\n",
       "      <td>9.571913e-32</td>\n",
       "      <td>4.946573e-32</td>\n",
       "      <td>2.756361e-31</td>\n",
       "    </tr>\n",
       "    <tr>\n",
       "      <th>power_10</th>\n",
       "      <td>1.238243e-37</td>\n",
       "      <td>9.869452e-36</td>\n",
       "      <td>4.880438e-36</td>\n",
       "      <td>3.270431e-35</td>\n",
       "    </tr>\n",
       "    <tr>\n",
       "      <th>power_11</th>\n",
       "      <td>8.518725e-42</td>\n",
       "      <td>1.031011e-39</td>\n",
       "      <td>4.850091e-40</td>\n",
       "      <td>3.910469e-39</td>\n",
       "    </tr>\n",
       "    <tr>\n",
       "      <th>power_12</th>\n",
       "      <td>5.894556e-46</td>\n",
       "      <td>1.087298e-43</td>\n",
       "      <td>4.841615e-44</td>\n",
       "      <td>4.701180e-43</td>\n",
       "    </tr>\n",
       "    <tr>\n",
       "      <th>power_13</th>\n",
       "      <td>4.095426e-50</td>\n",
       "      <td>1.154537e-47</td>\n",
       "      <td>4.846350e-48</td>\n",
       "      <td>5.672123e-47</td>\n",
       "    </tr>\n",
       "    <tr>\n",
       "      <th>power_14</th>\n",
       "      <td>2.854649e-54</td>\n",
       "      <td>1.232113e-51</td>\n",
       "      <td>4.858836e-52</td>\n",
       "      <td>6.859581e-51</td>\n",
       "    </tr>\n",
       "    <tr>\n",
       "      <th>power_15</th>\n",
       "      <td>1.995475e-58</td>\n",
       "      <td>1.319867e-55</td>\n",
       "      <td>4.875585e-56</td>\n",
       "      <td>8.308436e-55</td>\n",
       "    </tr>\n",
       "  </tbody>\n",
       "</table>\n",
       "</div>"
      ],
      "text/plain": [
       "                     0             1             2             3\n",
       "power_1   2.328068e+00  2.097569e+00  2.289063e+00  2.085962e+00\n",
       "power_2   3.536216e-04  3.908175e-04  4.124722e-04  4.050358e-04\n",
       "power_3   3.319697e-08  6.671899e-08  6.088353e-08  7.468646e-08\n",
       "power_4   2.000825e-12  8.900030e-12  6.585722e-12  1.130966e-11\n",
       "power_5   1.114926e-16  9.726399e-16  6.152782e-16  1.458644e-15\n",
       "power_6   6.577861e-21  9.697337e-20  5.644466e-20  1.735613e-19\n",
       "power_7   4.129395e-25  9.505645e-24  5.288344e-24  2.016096e-23\n",
       "power_8   2.703938e-29  9.444910e-28  5.070914e-28  2.346053e-27\n",
       "power_9   1.816148e-33  9.571913e-32  4.946573e-32  2.756361e-31\n",
       "power_10  1.238243e-37  9.869452e-36  4.880438e-36  3.270431e-35\n",
       "power_11  8.518725e-42  1.031011e-39  4.850091e-40  3.910469e-39\n",
       "power_12  5.894556e-46  1.087298e-43  4.841615e-44  4.701180e-43\n",
       "power_13  4.095426e-50  1.154537e-47  4.846350e-48  5.672123e-47\n",
       "power_14  2.854649e-54  1.232113e-51  4.858836e-52  6.859581e-51\n",
       "power_15  1.995475e-58  1.319867e-55  4.875585e-56  8.308436e-55"
      ]
     },
     "execution_count": 12,
     "metadata": {},
     "output_type": "execute_result"
    }
   ],
   "source": [
    "pd.DataFrame(coeffs, poly15_data.columns)"
   ]
  },
  {
   "cell_type": "markdown",
   "metadata": {},
   "source": [
    "### k-fold Cross Validation"
   ]
  },
  {
   "cell_type": "code",
   "execution_count": 13,
   "metadata": {
    "collapsed": true
   },
   "outputs": [],
   "source": [
    "train_valid_shuffled = pd.read_csv('wk3_kc_house_train_valid_shuffled.csv', dtype=dtype_dict)\n",
    "test = pd.read_csv('wk3_kc_house_test_data.csv', dtype=dtype_dict)"
   ]
  },
  {
   "cell_type": "code",
   "execution_count": 14,
   "metadata": {
    "collapsed": false
   },
   "outputs": [],
   "source": [
    "def get_segment_indexes(num_observation, num_segment, i):\n",
    "        start = i * num_observation // num_segment\n",
    "        end = (i+1) * num_observation // num_segment - 1\n",
    "#         print(i, (start, end))\n",
    "        return(start, end)"
   ]
  },
  {
   "cell_type": "code",
   "execution_count": 15,
   "metadata": {
    "collapsed": true
   },
   "outputs": [],
   "source": [
    "def ridge_regression_on_poly15_2(data, l2_penalty):\n",
    "    poly15_data = polynomial_sframe(data['sqft_living'], 15)\n",
    "    model = linear_model.Ridge(alpha=l2_penalty, normalize=True)\n",
    "    model.fit(poly15_data, data['price'])\n",
    "    return model"
   ]
  },
  {
   "cell_type": "code",
   "execution_count": 16,
   "metadata": {
    "collapsed": true
   },
   "outputs": [],
   "source": [
    "def k_fold_cross_validation(k, l2_penalty, data, feature_data):\n",
    "    n = data.shape[0]\n",
    "    avg_rss = []\n",
    "    for i in range(1,k):\n",
    "        start, end = get_segment_indexes(n, k, i)\n",
    "        set_valid = data[start:end+1]\n",
    "        set_train = data[0:start].append(data[end+1:n])\n",
    "        model = ridge_regression_on_poly15_2(set_train, l2_penalty)\n",
    "        poly15_set_valid = feature_data[start:end+1]\n",
    "        rss = ((model.predict(poly15_set_valid) - set_valid['price']) ** 2).sum()\n",
    "        avg_rss.append(rss)\n",
    "        return np.array(avg_rss).mean()"
   ]
  },
  {
   "cell_type": "code",
   "execution_count": 17,
   "metadata": {
    "collapsed": false
   },
   "outputs": [
    {
     "name": "stdout",
     "output_type": "stream",
     "text": [
      "Lowest average validation error (RSS = 2.533624E+14) was achieved when L2 penalty is 1E+03\n"
     ]
    }
   ],
   "source": [
    "poly15_valid_shuffled = polynomial_sframe(train_valid_shuffled['sqft_living'], 15) # precompute 15 polynomials\n",
    "l2s = np.logspace(3, 9, num=13)\n",
    "\n",
    "min_rss = 1e99\n",
    "min_idx = -1\n",
    "\n",
    "for l in range(0, l2s.size):\n",
    "    curr_rss = k_fold_cross_validation(10, l2s[l], train_valid_shuffled, poly15_valid_shuffled)\n",
    "    if curr_rss < min_rss:\n",
    "        min_rss = curr_rss\n",
    "        min_idx = l\n",
    "\n",
    "print('Lowest average validation error (RSS = %E) was achieved when L2 penalty is %.E' % (min_rss, l2s[min_idx]))"
   ]
  },
  {
   "cell_type": "code",
   "execution_count": 18,
   "metadata": {
    "collapsed": false
   },
   "outputs": [
    {
     "name": "stdout",
     "output_type": "stream",
     "text": [
      "Test data RSS is 2.838569E+14\n"
     ]
    }
   ],
   "source": [
    "model = linear_model.Ridge(alpha=l2s[min_idx], normalize=True)\n",
    "model.fit(poly15_valid_shuffled, train_valid_shuffled['price'])\n",
    "poly15_test = polynomial_sframe(test['sqft_living'], 15)\n",
    "rss = ((model.predict(poly15_test) - test['price']) ** 2).sum()\n",
    "print('Test data RSS is %E' % rss)"
   ]
  },
  {
   "cell_type": "markdown",
   "metadata": {},
   "source": [
    "### Ridge Regression Gradient Descent"
   ]
  },
  {
   "cell_type": "code",
   "execution_count": 19,
   "metadata": {
    "collapsed": false
   },
   "outputs": [],
   "source": [
    "def get_numpy_data(data, input_features, ouput_feature):\n",
    "    N = len(data[input_features[0]])\n",
    "    data['constant'] = np.ones(data[input_features[0]].shape) # add a constant column\n",
    "    features_matrix = data['constant'].reshape(N,1)\n",
    "    for i in range(0, len(input_features)):\n",
    "        features_matrix = np.hstack((features_matrix, data[input_features[i]].reshape(N,1)))\n",
    "    output_vector = np.array(data[ouput_feature])\n",
    "    return np.array(features_matrix), output_vector\n",
    "\n",
    "def predict_outcome(features_matrix, weights):\n",
    "    if np.any(np.array(features_matrix.shape) > 1):\n",
    "        return features_matrix.dot(weights)\n",
    "    return features_matrix * weights\n",
    "\n",
    "def ridge_regression_gradient_descent(features_matrix, output_vector, initial_weights, step_size, \n",
    "                                      l2_penalty, max_iter, is_normalized=True):\n",
    "    weights = np.array(initial_weights)\n",
    "    iterator = 0\n",
    "    while iterator < max_iter:\n",
    "        partial = -2.0 * features_matrix.T.dot(output_vector - predict_outcome(features_matrix, weights)) \n",
    "#         gradient_magnitude = np.sqrt(((output_vector - predict_outcome(features_matrix, weights)) ** 2).sum())\n",
    "        if is_normalized:\n",
    "            if iterator == 1:\n",
    "                print('-- not regularizing the constant')\n",
    "            weights[0] = weights[0] - step_size * partial[0]\n",
    "            weights[1::] = (1.0 - 2.0 * step_size * l2_penalty) * weights[1::] - step_size * partial[1::]\n",
    "        else:\n",
    "            weights = (1.0 - 2.0 * step_size * l2_penalty) * weights - step_size * partial\n",
    "        \n",
    "#         if iterator % 100 == 0:\n",
    "#             print('%4d gradient magnitude is: %.5E' % (iterator, gradient_magnitude))\n",
    "        iterator = iterator + 1\n",
    "    \n",
    "    return weights"
   ]
  },
  {
   "cell_type": "code",
   "execution_count": 20,
   "metadata": {
    "collapsed": false
   },
   "outputs": [],
   "source": [
    "train_valid_shuffled = pd.read_csv('wk3_kc_house_train_valid_shuffled.csv', dtype=dtype_dict)\n",
    "test = pd.read_csv('wk3_kc_house_test_data.csv', dtype=dtype_dict)"
   ]
  },
  {
   "cell_type": "code",
   "execution_count": 21,
   "metadata": {
    "collapsed": false,
    "scrolled": false
   },
   "outputs": [
    {
     "name": "stdout",
     "output_type": "stream",
     "text": [
      "-- not regularizing the constant\n"
     ]
    }
   ],
   "source": [
    "simple_features = ['sqft_living']\n",
    "my_output = ['price']\n",
    "(simple_feature_matrix, simple_output) = get_numpy_data(train_valid_shuffled, simple_features, my_output)\n",
    "(simple_test_feature_matrix, simple_test_output) = get_numpy_data(test, simple_features, my_output)\n",
    "\n",
    "step_size = 1e-12\n",
    "max_iter = 1000\n",
    "l2_penalty = 0\n",
    "initial_weights = np.zeros((2,1))\n",
    "simple_weights_0_penalty = ridge_regression_gradient_descent(simple_feature_matrix, simple_output, \n",
    "                                                            initial_weights, step_size, l2_penalty, \n",
    "                                                            max_iter)"
   ]
  },
  {
   "cell_type": "code",
   "execution_count": 22,
   "metadata": {
    "collapsed": false
   },
   "outputs": [
    {
     "name": "stdout",
     "output_type": "stream",
     "text": [
      "Weights from 0 penalty is -0.2 and 263.3\n"
     ]
    }
   ],
   "source": [
    "print('Weights from 0 penalty is %.1f and %.1f' % (simple_weights_0_penalty[0], simple_weights_0_penalty[1]))"
   ]
  },
  {
   "cell_type": "code",
   "execution_count": 23,
   "metadata": {
    "collapsed": false
   },
   "outputs": [
    {
     "name": "stdout",
     "output_type": "stream",
     "text": [
      "-- not regularizing the constant\n"
     ]
    }
   ],
   "source": [
    "l2_penalty = 1e11\n",
    "initial_weights = np.zeros((2,1))\n",
    "simple_weights_high_penalty = ridge_regression_gradient_descent(simple_feature_matrix, simple_output, \n",
    "                                                            initial_weights, step_size, l2_penalty, max_iter)"
   ]
  },
  {
   "cell_type": "code",
   "execution_count": 24,
   "metadata": {
    "collapsed": false
   },
   "outputs": [
    {
     "name": "stdout",
     "output_type": "stream",
     "text": [
      "Weights from high penalty is 10.3 and 131.7\n"
     ]
    }
   ],
   "source": [
    "print('Weights from high penalty is %.1f and %.1f' % (simple_weights_high_penalty[0], simple_weights_high_penalty[1]))"
   ]
  },
  {
   "cell_type": "code",
   "execution_count": 25,
   "metadata": {
    "collapsed": false
   },
   "outputs": [
    {
     "data": {
      "text/plain": [
       "[<matplotlib.lines.Line2D at 0x1af91da9cf8>,\n",
       " <matplotlib.lines.Line2D at 0x1af91da9eb8>,\n",
       " <matplotlib.lines.Line2D at 0x1af91d791d0>,\n",
       " <matplotlib.lines.Line2D at 0x1af91d90080>,\n",
       " <matplotlib.lines.Line2D at 0x1af91d902b0>,\n",
       " <matplotlib.lines.Line2D at 0x1af91d9c0f0>]"
      ]
     },
     "execution_count": 25,
     "metadata": {},
     "output_type": "execute_result"
    },
    {
     "data": {
      "image/png": "[encoded data removed]",
      "text/plain": [
       "<matplotlib.figure.Figure at 0x1af91ed0860>"
      ]
     },
     "metadata": {},
     "output_type": "display_data"
    }
   ],
   "source": [
    "plt.plot(simple_feature_matrix,simple_output,'k.',\n",
    "        simple_feature_matrix,predict_outcome(simple_feature_matrix, simple_weights_0_penalty),'b-',\n",
    "        simple_feature_matrix,predict_outcome(simple_feature_matrix, simple_weights_high_penalty),'r-')"
   ]
  },
  {
   "cell_type": "code",
   "execution_count": 26,
   "metadata": {
    "collapsed": false
   },
   "outputs": [
    {
     "name": "stdout",
     "output_type": "stream",
     "text": [
      "RSS on the test data using zero weights is 9.279E+14\n"
     ]
    }
   ],
   "source": [
    "print( 'RSS on the test data using zero weights is %.3E' \n",
    "      % sum((simple_test_output - predict_outcome(simple_test_feature_matrix, np.zeros((2,1)))) ** 2))"
   ]
  },
  {
   "cell_type": "code",
   "execution_count": 27,
   "metadata": {
    "collapsed": false
   },
   "outputs": [
    {
     "name": "stdout",
     "output_type": "stream",
     "text": [
      "RSS on the test data using weights from 0 penalty is 1.431E+14\n"
     ]
    }
   ],
   "source": [
    "print( 'RSS on the test data using weights from 0 penalty is %.3E' \n",
    "      % sum((simple_test_output - predict_outcome(simple_test_feature_matrix, simple_weights_0_penalty)) ** 2))"
   ]
  },
  {
   "cell_type": "code",
   "execution_count": 28,
   "metadata": {
    "collapsed": false
   },
   "outputs": [
    {
     "name": "stdout",
     "output_type": "stream",
     "text": [
      "RSS on the test data using weights from high penalty is 3.391E+14\n"
     ]
    }
   ],
   "source": [
    "print( 'RSS on the test data using weights from high penalty is %.3E' \n",
    "      % sum((simple_test_output - predict_outcome(simple_test_feature_matrix, simple_weights_high_penalty)) ** 2))"
   ]
  },
  {
   "cell_type": "code",
   "execution_count": 29,
   "metadata": {
    "collapsed": false
   },
   "outputs": [
    {
     "name": "stdout",
     "output_type": "stream",
     "text": [
      "-- not regularizing the constant\n"
     ]
    }
   ],
   "source": [
    "simple_features = ['sqft_living', 'sqft_living15']\n",
    "my_output = ['price']\n",
    "(simple_feature_matrix, simple_output) = get_numpy_data(train_valid_shuffled, simple_features, my_output)\n",
    "(simple_test_feature_matrix, simple_test_output) = get_numpy_data(test, simple_features, my_output)\n",
    "\n",
    "step_size = 1e-12\n",
    "max_iter = 1000\n",
    "l2_penalty = 0\n",
    "initial_weights = np.zeros((len(simple_features)+1,1))\n",
    "simple_weights_0_penalty = ridge_regression_gradient_descent(simple_feature_matrix, simple_output, \n",
    "                                                            initial_weights, step_size, l2_penalty, \n",
    "                                                            max_iter)"
   ]
  },
  {
   "cell_type": "code",
   "execution_count": 30,
   "metadata": {
    "collapsed": false
   },
   "outputs": [
    {
     "name": "stdout",
     "output_type": "stream",
     "text": [
      "Weights from 0 penalty for sqft_living is 244.3\n"
     ]
    }
   ],
   "source": [
    "print('Weights from 0 penalty for sqft_living is %.1f' % (simple_weights_0_penalty[1]))"
   ]
  },
  {
   "cell_type": "code",
   "execution_count": 31,
   "metadata": {
    "collapsed": false
   },
   "outputs": [
    {
     "name": "stdout",
     "output_type": "stream",
     "text": [
      "-- not regularizing the constant\n"
     ]
    }
   ],
   "source": [
    "l2_penalty = 1e11\n",
    "simple_weights_high_penalty = ridge_regression_gradient_descent(simple_feature_matrix, simple_output, \n",
    "                                                            initial_weights, step_size, l2_penalty, \n",
    "                                                            max_iter)"
   ]
  },
  {
   "cell_type": "code",
   "execution_count": 32,
   "metadata": {
    "collapsed": false
   },
   "outputs": [
    {
     "name": "stdout",
     "output_type": "stream",
     "text": [
      "Weights from high penalty for sqft_living is 95.4\n"
     ]
    }
   ],
   "source": [
    "print('Weights from high penalty for sqft_living is %.1f' % (simple_weights_high_penalty[1]))"
   ]
  },
  {
   "cell_type": "code",
   "execution_count": 33,
   "metadata": {
    "collapsed": false
   },
   "outputs": [
    {
     "name": "stdout",
     "output_type": "stream",
     "text": [
      "RSS on the test data using zero weights is 9.279E+14\n"
     ]
    }
   ],
   "source": [
    "print( 'RSS on the test data using zero weights is %.3E' \n",
    "      % sum((simple_test_output - predict_outcome(simple_test_feature_matrix, np.zeros((len(simple_features)+1,1)))) ** 2))"
   ]
  },
  {
   "cell_type": "code",
   "execution_count": 34,
   "metadata": {
    "collapsed": false
   },
   "outputs": [
    {
     "name": "stdout",
     "output_type": "stream",
     "text": [
      "RSS on the test data using weights from 0 penalty is 1.427E+14\n"
     ]
    }
   ],
   "source": [
    "print( 'RSS on the test data using weights from 0 penalty is %.3E' \n",
    "      % sum((simple_test_output - predict_outcome(simple_test_feature_matrix, simple_weights_0_penalty)) ** 2))"
   ]
  },
  {
   "cell_type": "code",
   "execution_count": 35,
   "metadata": {
    "collapsed": false
   },
   "outputs": [
    {
     "name": "stdout",
     "output_type": "stream",
     "text": [
      "RSS on the test data using weights from high penalty is 2.467E+14\n"
     ]
    }
   ],
   "source": [
    "print( 'RSS on the test data using weights from high penalty is %.3E' \n",
    "      % sum((simple_test_output - predict_outcome(simple_test_feature_matrix, simple_weights_high_penalty)) ** 2))"
   ]
  },
  {
   "cell_type": "code",
   "execution_count": 36,
   "metadata": {
    "collapsed": false
   },
   "outputs": [
    {
     "data": {
      "text/plain": [
       "array([ 323000.])"
      ]
     },
     "execution_count": 36,
     "metadata": {},
     "output_type": "execute_result"
    }
   ],
   "source": [
    "simple_test_output[0]"
   ]
  },
  {
   "cell_type": "code",
   "execution_count": 37,
   "metadata": {
    "collapsed": false
   },
   "outputs": [
    {
     "data": {
      "text/plain": [
       "array([ 512693.33773354])"
      ]
     },
     "execution_count": 37,
     "metadata": {},
     "output_type": "execute_result"
    }
   ],
   "source": [
    "outcome_0_penalty = predict_outcome(simple_test_feature_matrix, simple_weights_0_penalty)\n",
    "outcome_0_penalty[0]"
   ]
  },
  {
   "cell_type": "code",
   "execution_count": 38,
   "metadata": {
    "collapsed": false
   },
   "outputs": [
    {
     "data": {
      "text/plain": [
       "array([ 374976.85225134])"
      ]
     },
     "execution_count": 38,
     "metadata": {},
     "output_type": "execute_result"
    }
   ],
   "source": [
    "outcome_high_penalty = predict_outcome(simple_test_feature_matrix, simple_weights_high_penalty)\n",
    "outcome_high_penalty[0]"
   ]
  },
  {
   "cell_type": "code",
   "execution_count": null,
   "metadata": {
    "collapsed": true
   },
   "outputs": [],
   "source": []
  }
 ],
 "metadata": {
  "kernelspec": {
   "display_name": "Python 3",
   "language": "python",
   "name": "python3"
  },
  "language_info": {
   "codemirror_mode": {
    "name": "ipython",
    "version": 3
   },
   "file_extension": ".py",
   "mimetype": "text/x-python",
   "name": "python",
   "nbconvert_exporter": "python",
   "pygments_lexer": "ipython3",
   "version": "3.5.2"
  }
 },
 "nbformat": 4,
 "nbformat_minor": 0
}
