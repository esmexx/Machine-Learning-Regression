{
 "cells": [
  {
   "cell_type": "code",
   "execution_count": 1,
   "metadata": {
    "collapsed": false
   },
   "outputs": [],
   "source": [
    "import pandas as pd\n",
    "import numpy as np\n",
    "from math import log\n",
    "# import regression tools\n",
    "import sys\n",
    "sys.path.append(r'../')\n",
    "import RegressionTools as reg"
   ]
  },
  {
   "cell_type": "code",
   "execution_count": 2,
   "metadata": {
    "collapsed": true
   },
   "outputs": [],
   "source": [
    "dtype_dict = {'bathrooms':float, 'waterfront':int, 'sqft_above':int, 'sqft_living15':float, 'grade':int, 'yr_renovated':int, \n",
    "              'price':float, 'bedrooms':float, 'zipcode':str, 'long':float, 'sqft_lot15':float, 'sqft_living':float, \n",
    "              'floors':str, 'condition':int, 'lat':float, 'date':str, 'sqft_basement':int, 'yr_built':int, 'id':str, \n",
    "              'sqft_lot':int, 'view':int}"
   ]
  },
  {
   "cell_type": "code",
   "execution_count": 3,
   "metadata": {
    "collapsed": true
   },
   "outputs": [],
   "source": [
    "# load all csv files\n",
    "kc_house_train_data = pd.read_csv('kc_house_train_data.csv', dtype = dtype_dict)\n",
    "kc_house_test_data = pd.read_csv('kc_house_test_data.csv', dtype = dtype_dict)"
   ]
  },
  {
   "cell_type": "code",
   "execution_count": 4,
   "metadata": {
    "collapsed": false
   },
   "outputs": [
    {
     "data": {
      "text/plain": [
       "array([ 3.,  2.,  1.])"
      ]
     },
     "execution_count": 4,
     "metadata": {},
     "output_type": "execute_result"
    }
   ],
   "source": [
    "# verify function\n",
    "example_features = ['sqft_living', 'bedrooms', 'bathrooms']\n",
    "kc_house_train_data['example_price'] = 3.0 * kc_house_train_data['sqft_living'] + 2.0 * kc_house_train_data['bedrooms'] + 1.0 * kc_house_train_data['bathrooms']\n",
    "example_coeffs = reg.multiple_linear_regression(kc_house_train_data, example_features, 'example_price')\n",
    "example_coeffs"
   ]
  },
  {
   "cell_type": "code",
   "execution_count": 5,
   "metadata": {
    "collapsed": false
   },
   "outputs": [
    {
     "data": {
      "text/plain": [
       "1.9307037854432102e-19"
      ]
     },
     "execution_count": 5,
     "metadata": {},
     "output_type": "execute_result"
    }
   ],
   "source": [
    "example_RSS = reg.get_residual_sum_of_squares_multiple_models(kc_house_train_data, example_features, 'example_price', example_coeffs)\n",
    "example_RSS"
   ]
  },
  {
   "cell_type": "code",
   "execution_count": 6,
   "metadata": {
    "collapsed": false
   },
   "outputs": [
    {
     "data": {
      "text/plain": [
       "array([   308.93552416, -44362.93724549,  19283.82752088])"
      ]
     },
     "execution_count": 6,
     "metadata": {},
     "output_type": "execute_result"
    }
   ],
   "source": [
    "sample_coeffs = reg.multiple_linear_regression(kc_house_train_data, example_features, 'price')\n",
    "sample_coeffs"
   ]
  },
  {
   "cell_type": "code",
   "execution_count": 7,
   "metadata": {
    "collapsed": false
   },
   "outputs": [
    {
     "name": "stdout",
     "output_type": "stream",
     "text": [
      "predicted house price is 250738.934291 \n"
     ]
    }
   ],
   "source": [
    "# given example\n",
    "sample_coeffs = reg.multiple_linear_regression(kc_house_train_data, example_features, 'price')\n",
    "sample_feature_matrix = kc_house_train_data[example_features[0]][0]\n",
    "sample_feature_matrix = np.vstack((sample_feature_matrix, kc_house_train_data[example_features[1]][0]))\n",
    "sample_feature_matrix = np.vstack((sample_feature_matrix, kc_house_train_data[example_features[2]][0]))\n",
    "print('predicted house price is %.6f ' % sample_feature_matrix.T.dot(sample_coeffs))"
   ]
  },
  {
   "cell_type": "markdown",
   "metadata": {},
   "source": [
    "## Programming assignment 1: Multiple Regression Models"
   ]
  },
  {
   "cell_type": "markdown",
   "metadata": {},
   "source": [
    "### Create new features"
   ]
  },
  {
   "cell_type": "code",
   "execution_count": 8,
   "metadata": {
    "collapsed": false
   },
   "outputs": [],
   "source": [
    "kc_house_train_data['bedrooms_squared'] = kc_house_train_data['bedrooms'].apply(lambda x: x**2)\n",
    "kc_house_train_data['bed_bath_rooms']   = kc_house_train_data['bedrooms'] * kc_house_train_data['bathrooms']\n",
    "kc_house_train_data['log_sqft_living']  = kc_house_train_data['sqft_living'].apply(lambda x: log(x))\n",
    "kc_house_train_data['lat_plus_long']    = kc_house_train_data['lat'] + kc_house_train_data['long']"
   ]
  },
  {
   "cell_type": "code",
   "execution_count": 9,
   "metadata": {
    "collapsed": true
   },
   "outputs": [],
   "source": [
    "kc_house_test_data['bedrooms_squared'] = kc_house_test_data['bedrooms'].apply(lambda x: x**2)\n",
    "kc_house_test_data['bed_bath_rooms']   = kc_house_test_data['bedrooms'] * kc_house_test_data['bathrooms']\n",
    "kc_house_test_data['log_sqft_living']  = kc_house_test_data['sqft_living'].apply(lambda x: log(x))\n",
    "kc_house_test_data['lat_plus_long']    = kc_house_test_data['lat'] + kc_house_test_data['long']"
   ]
  },
  {
   "cell_type": "code",
   "execution_count": 10,
   "metadata": {
    "collapsed": false
   },
   "outputs": [
    {
     "name": "stdout",
     "output_type": "stream",
     "text": [
      "bedrooms_squared mean: 12.45\n",
      "bed_bath_rooms mean:   7.50\n",
      "log_sqft_living mean:  7.55\n",
      "lat_plus_long mean:    -74.65\n"
     ]
    }
   ],
   "source": [
    "print('bedrooms_squared mean: %.2f' % kc_house_test_data['bedrooms_squared'].mean())\n",
    "print('bed_bath_rooms mean:   %.2f' % kc_house_test_data['bed_bath_rooms'].mean())\n",
    "print('log_sqft_living mean:  %.2f' % kc_house_test_data['log_sqft_living'].mean())\n",
    "print('lat_plus_long mean:    %.2f' % kc_house_test_data['lat_plus_long'].mean())"
   ]
  },
  {
   "cell_type": "markdown",
   "metadata": {},
   "source": [
    "### Learning multiple models"
   ]
  },
  {
   "cell_type": "code",
   "execution_count": 11,
   "metadata": {
    "collapsed": false
   },
   "outputs": [],
   "source": [
    "model_1_features = ['sqft_living', 'bedrooms', 'bathrooms', 'lat', 'long']\n",
    "model_2_features = model_1_features + ['bed_bath_rooms']\n",
    "model_3_features = model_2_features + ['bedrooms_squared', 'log_sqft_living', 'lat_plus_long']"
   ]
  },
  {
   "cell_type": "code",
   "execution_count": 12,
   "metadata": {
    "collapsed": false
   },
   "outputs": [
    {
     "data": {
      "text/html": [
       "<div>\n",
       "<table border=\"1\" class=\"dataframe\">\n",
       "  <thead>\n",
       "    <tr style=\"text-align: right;\">\n",
       "      <th></th>\n",
       "      <th>0</th>\n",
       "    </tr>\n",
       "  </thead>\n",
       "  <tbody>\n",
       "    <tr>\n",
       "      <th>sqft_living</th>\n",
       "      <td>300.963659</td>\n",
       "    </tr>\n",
       "    <tr>\n",
       "      <th>bedrooms</th>\n",
       "      <td>-59554.887988</td>\n",
       "    </tr>\n",
       "    <tr>\n",
       "      <th>bathrooms</th>\n",
       "      <td>5321.077302</td>\n",
       "    </tr>\n",
       "    <tr>\n",
       "      <th>lat</th>\n",
       "      <td>532596.984132</td>\n",
       "    </tr>\n",
       "    <tr>\n",
       "      <th>long</th>\n",
       "      <td>206418.679603</td>\n",
       "    </tr>\n",
       "  </tbody>\n",
       "</table>\n",
       "</div>"
      ],
      "text/plain": [
       "                         0\n",
       "sqft_living     300.963659\n",
       "bedrooms     -59554.887988\n",
       "bathrooms      5321.077302\n",
       "lat          532596.984132\n",
       "long         206418.679603"
      ]
     },
     "execution_count": 12,
     "metadata": {},
     "output_type": "execute_result"
    }
   ],
   "source": [
    "model_1_coeffs = reg.multiple_linear_regression(kc_house_train_data, model_1_features, 'price')\n",
    "pd.DataFrame(model_1_coeffs, model_1_features)"
   ]
  },
  {
   "cell_type": "code",
   "execution_count": 13,
   "metadata": {
    "collapsed": false
   },
   "outputs": [
    {
     "data": {
      "text/html": [
       "<div>\n",
       "<table border=\"1\" class=\"dataframe\">\n",
       "  <thead>\n",
       "    <tr style=\"text-align: right;\">\n",
       "      <th></th>\n",
       "      <th>0</th>\n",
       "    </tr>\n",
       "  </thead>\n",
       "  <tbody>\n",
       "    <tr>\n",
       "      <th>sqft_living</th>\n",
       "      <td>293.999642</td>\n",
       "    </tr>\n",
       "    <tr>\n",
       "      <th>bedrooms</th>\n",
       "      <td>-130492.300057</td>\n",
       "    </tr>\n",
       "    <tr>\n",
       "      <th>bathrooms</th>\n",
       "      <td>-109046.396020</td>\n",
       "    </tr>\n",
       "    <tr>\n",
       "      <th>lat</th>\n",
       "      <td>532930.482043</td>\n",
       "    </tr>\n",
       "    <tr>\n",
       "      <th>long</th>\n",
       "      <td>204561.517539</td>\n",
       "    </tr>\n",
       "    <tr>\n",
       "      <th>bed_bath_rooms</th>\n",
       "      <td>33689.673259</td>\n",
       "    </tr>\n",
       "  </tbody>\n",
       "</table>\n",
       "</div>"
      ],
      "text/plain": [
       "                            0\n",
       "sqft_living        293.999642\n",
       "bedrooms       -130492.300057\n",
       "bathrooms      -109046.396020\n",
       "lat             532930.482043\n",
       "long            204561.517539\n",
       "bed_bath_rooms   33689.673259"
      ]
     },
     "execution_count": 13,
     "metadata": {},
     "output_type": "execute_result"
    }
   ],
   "source": [
    "model_2_coeffs = reg.multiple_linear_regression(kc_house_train_data, model_2_features, 'price')\n",
    "pd.DataFrame(model_2_coeffs, model_2_features)"
   ]
  },
  {
   "cell_type": "code",
   "execution_count": 14,
   "metadata": {
    "collapsed": false
   },
   "outputs": [
    {
     "data": {
      "text/html": [
       "<div>\n",
       "<table border=\"1\" class=\"dataframe\">\n",
       "  <thead>\n",
       "    <tr style=\"text-align: right;\">\n",
       "      <th></th>\n",
       "      <th>0</th>\n",
       "    </tr>\n",
       "  </thead>\n",
       "  <tbody>\n",
       "    <tr>\n",
       "      <th>sqft_living</th>\n",
       "      <td>646.075415</td>\n",
       "    </tr>\n",
       "    <tr>\n",
       "      <th>bedrooms</th>\n",
       "      <td>-30922.613674</td>\n",
       "    </tr>\n",
       "    <tr>\n",
       "      <th>bathrooms</th>\n",
       "      <td>140385.970983</td>\n",
       "    </tr>\n",
       "    <tr>\n",
       "      <th>lat</th>\n",
       "      <td>455709.540810</td>\n",
       "    </tr>\n",
       "    <tr>\n",
       "      <th>long</th>\n",
       "      <td>95594.459500</td>\n",
       "    </tr>\n",
       "    <tr>\n",
       "      <th>bed_bath_rooms</th>\n",
       "      <td>-11454.291836</td>\n",
       "    </tr>\n",
       "    <tr>\n",
       "      <th>bedrooms_squared</th>\n",
       "      <td>-2309.203673</td>\n",
       "    </tr>\n",
       "    <tr>\n",
       "      <th>log_sqft_living</th>\n",
       "      <td>-633873.612071</td>\n",
       "    </tr>\n",
       "    <tr>\n",
       "      <th>lat_plus_long</th>\n",
       "      <td>81126.689341</td>\n",
       "    </tr>\n",
       "  </tbody>\n",
       "</table>\n",
       "</div>"
      ],
      "text/plain": [
       "                              0\n",
       "sqft_living          646.075415\n",
       "bedrooms          -30922.613674\n",
       "bathrooms         140385.970983\n",
       "lat               455709.540810\n",
       "long               95594.459500\n",
       "bed_bath_rooms    -11454.291836\n",
       "bedrooms_squared   -2309.203673\n",
       "log_sqft_living  -633873.612071\n",
       "lat_plus_long      81126.689341"
      ]
     },
     "execution_count": 14,
     "metadata": {},
     "output_type": "execute_result"
    }
   ],
   "source": [
    "model_3_coeffs = reg.multiple_linear_regression(kc_house_train_data, model_3_features, 'price')\n",
    "pd.DataFrame(model_3_coeffs, model_3_features)"
   ]
  },
  {
   "cell_type": "markdown",
   "metadata": {},
   "source": [
    "### Comparing multiple models"
   ]
  },
  {
   "cell_type": "code",
   "execution_count": 15,
   "metadata": {
    "collapsed": false
   },
   "outputs": [
    {
     "name": "stdout",
     "output_type": "stream",
     "text": [
      "RSS results: \n",
      "model 1 = 1.0658E+15, model 2 = 1.0493E+15, model 3 = 1.2315E+15\n"
     ]
    }
   ],
   "source": [
    "# on training data\n",
    "model_1_RSS = reg.get_residual_sum_of_squares_multiple_models(kc_house_train_data, model_1_features, 'price', model_1_coeffs)\n",
    "model_2_RSS = reg.get_residual_sum_of_squares_multiple_models(kc_house_train_data, model_2_features, 'price', model_2_coeffs)\n",
    "model_3_RSS = reg.get_residual_sum_of_squares_multiple_models(kc_house_train_data, model_3_features, 'price', model_3_coeffs)\n",
    "print('RSS results: \\nmodel 1 = %.4E, model 2 = %.4E, model 3 = %.4E' % (model_1_RSS, model_2_RSS, model_3_RSS))"
   ]
  },
  {
   "cell_type": "code",
   "execution_count": 16,
   "metadata": {
    "collapsed": false
   },
   "outputs": [
    {
     "name": "stdout",
     "output_type": "stream",
     "text": [
      "RSS results: \n",
      "model 1 = 2.5046E+14, model 2 = 2.4657E+14, model 3 = 3.0765E+14\n"
     ]
    }
   ],
   "source": [
    "# on training data\n",
    "model_1_RSS = reg.get_residual_sum_of_squares_multiple_models(kc_house_test_data, model_1_features, 'price', model_1_coeffs)\n",
    "model_2_RSS = reg.get_residual_sum_of_squares_multiple_models(kc_house_test_data, model_2_features, 'price', model_2_coeffs)\n",
    "model_3_RSS = reg.get_residual_sum_of_squares_multiple_models(kc_house_test_data, model_3_features, 'price', model_3_coeffs)\n",
    "print('RSS results: \\nmodel 1 = %.4E, model 2 = %.4E, model 3 = %.4E' % (model_1_RSS, model_2_RSS, model_3_RSS))"
   ]
  },
  {
   "cell_type": "markdown",
   "metadata": {},
   "source": [
    "##  Programming assignment 2: Gradient Descent"
   ]
  },
  {
   "cell_type": "code",
   "execution_count": 17,
   "metadata": {
    "collapsed": false
   },
   "outputs": [],
   "source": [
    "def get_numpy_data(data, input_features, ouput_feature):\n",
    "    N = len(data[input_features[0]])\n",
    "    data['constant'] = np.ones(data[input_features[0]].shape) # add a constant column\n",
    "    features_matrix = data['constant'].reshape(N,1)\n",
    "    for i in range(0, len(input_features)):\n",
    "        features_matrix = np.hstack((features_matrix, data[input_features[i]].reshape(N,1)))\n",
    "    output_vector = np.array(data[ouput_feature])\n",
    "    return np.array(features_matrix), output_vector\n",
    "#     data['constant'] = np.ones(data[input_features[0]].shape) # add a constant column\n",
    "#     features_matrix = data['constant']\n",
    "#     for i in range(0, len(input_features)):\n",
    "#         features_matrix = np.vstack((features_matrix, data[input_features[i]]))\n",
    "#     features_matrix = np.array(features_matrix)\n",
    "#     output_vector = np.array(data[ouput_feature])\n",
    "#     return(features_matrix, output_vector)\n",
    "\n",
    "def predict_outcome(feature_matrix, weights):\n",
    "    if np.any(np.array(feature_matrix.shape) > 1):\n",
    "        return feature_matrix.dot(weights)\n",
    "    return feature_matrix * weights\n",
    "    \n",
    "def regression_gradient_descent(features_matrix, output, initial_weights, step_size, tolerance, max_iter):\n",
    "    converged = False\n",
    "    weights = np.array(initial_weights)\n",
    "    iterator = 0\n",
    "    while not converged:\n",
    "        gradient_rss = -2.0 * features_matrix.T.dot(output - predict_outcome(features_matrix, weights))\n",
    "        gradient_magnitude = np.sqrt((gradient_rss ** 2).sum())\n",
    "        weights = weights - step_size * gradient_rss\n",
    "        if iterator % 10 == 0:\n",
    "            print('%4d gradient magnitude is: %.5E' % (iterator, gradient_magnitude))\n",
    "        iterator = iterator + 1\n",
    "        if gradient_magnitude < tolerance:\n",
    "            converged = True\n",
    "        if iterator > max_iter:\n",
    "            converged = True\n",
    "    \n",
    "    print('%4d gradient magnitude is: %.5E' % (iterator, gradient_magnitude))\n",
    "    return(weights)\n",
    "#     converged = False\n",
    "#     weights = np.array(initial_weights)\n",
    "#     iterator = 0\n",
    "#     while not converged:\n",
    "#         gradient_rss = -2.0 * features_matrix.dot(output - weights.dot(features_matrix))\n",
    "#         gradient_magnitude = np.sqrt((gradient_rss ** 2).sum())\n",
    "#         weights = weights - step_size * gradient_rss\n",
    "#         if iterator % 10 == 0:\n",
    "#             print('%4d gradient magnitude is: %.5E' % (iterator, gradient_magnitude))\n",
    "#         iterator = iterator + 1\n",
    "#         if gradient_magnitude < tolerance:\n",
    "#             converged = True\n",
    "#         if iterator > max_iter:\n",
    "#             converged = True\n",
    "    \n",
    "#     print('%4d gradient magnitude is: %.5E' % (iterator, gradient_magnitude))\n",
    "#     return(weights)"
   ]
  },
  {
   "cell_type": "markdown",
   "metadata": {},
   "source": [
    "#### Simple 1D Model"
   ]
  },
  {
   "cell_type": "code",
   "execution_count": 18,
   "metadata": {
    "collapsed": false
   },
   "outputs": [],
   "source": [
    "simple_features = ['sqft_living']\n",
    "my_output= 'price'\n",
    "simple_feature_matrix, output = get_numpy_data(kc_house_train_data, simple_features, my_output)\n",
    "initial_weights = np.array([-47000., 1.])\n",
    "step_size = 7e-12\n",
    "tolerance = 2.5e7\n",
    "max_iter = 500"
   ]
  },
  {
   "cell_type": "code",
   "execution_count": 19,
   "metadata": {
    "collapsed": false,
    "scrolled": false
   },
   "outputs": [
    {
     "name": "stdout",
     "output_type": "stream",
     "text": [
      "   0 gradient magnitude is: 5.05515E+13\n",
      "  10 gradient magnitude is: 7.05041E+07\n",
      "  12 gradient magnitude is: 1.83200E+07\n"
     ]
    }
   ],
   "source": [
    "simple_weights = regression_gradient_descent(simple_feature_matrix, output, initial_weights, step_size, tolerance, max_iter)"
   ]
  },
  {
   "cell_type": "code",
   "execution_count": 20,
   "metadata": {
    "collapsed": false
   },
   "outputs": [
    {
     "name": "stdout",
     "output_type": "stream",
     "text": [
      "The value of the weight for sqft_living is 281.9\n"
     ]
    }
   ],
   "source": [
    "print('The value of the weight for sqft_living is %.1f' % simple_weights[1])"
   ]
  },
  {
   "cell_type": "code",
   "execution_count": 21,
   "metadata": {
    "collapsed": false
   },
   "outputs": [
    {
     "name": "stdout",
     "output_type": "stream",
     "text": [
      "The predicted price for the 1st house in the Test data set for model 1 is 356134\n"
     ]
    }
   ],
   "source": [
    "test_simple_feature_matrix, test_output = get_numpy_data(kc_house_test_data, simple_features, my_output)\n",
    "predicted_price = predict_outcome(test_simple_feature_matrix[0], simple_weights)\n",
    "print('The predicted price for the 1st house in the Test data set for model 1 is %d' % predicted_price)"
   ]
  },
  {
   "cell_type": "code",
   "execution_count": 22,
   "metadata": {
    "collapsed": false
   },
   "outputs": [
    {
     "name": "stdout",
     "output_type": "stream",
     "text": [
      "RSS on all test data for this model is 2.7540E+14\n"
     ]
    }
   ],
   "source": [
    "test_1_RSS = reg.get_residual_sum_of_squares_multiple_models(kc_house_test_data, ['constant', 'sqft_living'], 'price', simple_weights)\n",
    "print('RSS on all test data for this model is %.4E' % test_1_RSS)"
   ]
  },
  {
   "cell_type": "markdown",
   "metadata": {},
   "source": [
    "#### 2D Model"
   ]
  },
  {
   "cell_type": "code",
   "execution_count": 23,
   "metadata": {
    "collapsed": false
   },
   "outputs": [],
   "source": [
    "model_features = ['sqft_living', 'sqft_living15']\n",
    "my_output = 'price'\n",
    "feature_matrix, output = get_numpy_data(kc_house_train_data, model_features,my_output)\n",
    "initial_weights = np.array([-100000., 1., 1.])\n",
    "step_size = 4e-12\n",
    "tolerance = 1e9\n",
    "max_iter = 500"
   ]
  },
  {
   "cell_type": "code",
   "execution_count": 24,
   "metadata": {
    "collapsed": false
   },
   "outputs": [
    {
     "name": "stdout",
     "output_type": "stream",
     "text": [
      "   0 gradient magnitude is: 7.30720E+13\n",
      "  10 gradient magnitude is: 5.51539E+11\n",
      "  20 gradient magnitude is: 4.33802E+11\n",
      "  30 gradient magnitude is: 3.41199E+11\n",
      "  40 gradient magnitude is: 2.68364E+11\n",
      "  50 gradient magnitude is: 2.11076E+11\n",
      "  60 gradient magnitude is: 1.66018E+11\n",
      "  70 gradient magnitude is: 1.30578E+11\n",
      "  80 gradient magnitude is: 1.02704E+11\n",
      "  90 gradient magnitude is: 8.07799E+10\n",
      " 100 gradient magnitude is: 6.35359E+10\n",
      " 110 gradient magnitude is: 4.99729E+10\n",
      " 120 gradient magnitude is: 3.93053E+10\n",
      " 130 gradient magnitude is: 3.09148E+10\n",
      " 140 gradient magnitude is: 2.43155E+10\n",
      " 150 gradient magnitude is: 1.91249E+10\n",
      " 160 gradient magnitude is: 1.50423E+10\n",
      " 170 gradient magnitude is: 1.18312E+10\n",
      " 180 gradient magnitude is: 9.30564E+09\n",
      " 190 gradient magnitude is: 7.31918E+09\n",
      " 200 gradient magnitude is: 5.75676E+09\n",
      " 210 gradient magnitude is: 4.52787E+09\n",
      " 220 gradient magnitude is: 3.56131E+09\n",
      " 230 gradient magnitude is: 2.80108E+09\n",
      " 240 gradient magnitude is: 2.20314E+09\n",
      " 250 gradient magnitude is: 1.73284E+09\n",
      " 260 gradient magnitude is: 1.36293E+09\n",
      " 270 gradient magnitude is: 1.07199E+09\n",
      " 274 gradient magnitude is: 9.97481E+08\n"
     ]
    }
   ],
   "source": [
    "feature_weights = regression_gradient_descent(feature_matrix, output, initial_weights, step_size, tolerance, max_iter)"
   ]
  },
  {
   "cell_type": "code",
   "execution_count": 25,
   "metadata": {
    "collapsed": false
   },
   "outputs": [
    {
     "data": {
      "text/html": [
       "<div>\n",
       "<table border=\"1\" class=\"dataframe\">\n",
       "  <thead>\n",
       "    <tr style=\"text-align: right;\">\n",
       "      <th></th>\n",
       "      <th>0</th>\n",
       "    </tr>\n",
       "  </thead>\n",
       "  <tbody>\n",
       "    <tr>\n",
       "      <th>constant</th>\n",
       "      <td>-99999.968849</td>\n",
       "    </tr>\n",
       "    <tr>\n",
       "      <th>sqft_living</th>\n",
       "      <td>245.072603</td>\n",
       "    </tr>\n",
       "    <tr>\n",
       "      <th>sqft_living15</th>\n",
       "      <td>65.279527</td>\n",
       "    </tr>\n",
       "  </tbody>\n",
       "</table>\n",
       "</div>"
      ],
      "text/plain": [
       "                          0\n",
       "constant      -99999.968849\n",
       "sqft_living      245.072603\n",
       "sqft_living15     65.279527"
      ]
     },
     "execution_count": 25,
     "metadata": {},
     "output_type": "execute_result"
    }
   ],
   "source": [
    "pd.DataFrame(feature_weights, ['constant'] + model_features)"
   ]
  },
  {
   "cell_type": "code",
   "execution_count": 26,
   "metadata": {
    "collapsed": false
   },
   "outputs": [
    {
     "name": "stdout",
     "output_type": "stream",
     "text": [
      "The predicted price for the 1st house in the Test data set for model 1 is 366651\n",
      "The actual price for the 1st house in the Test data set is 310000\n"
     ]
    }
   ],
   "source": [
    "test_multiple_feature_matrix, test_output = get_numpy_data(kc_house_test_data, model_features, my_output)\n",
    "predicted_price = predict_outcome(test_multiple_feature_matrix[0], feature_weights)\n",
    "print('The predicted price for the 1st house in the Test data set for model 1 is %d' % predicted_price)\n",
    "print('The actual price for the 1st house in the Test data set is %d' % kc_house_test_data['price'][0])"
   ]
  },
  {
   "cell_type": "code",
   "execution_count": 27,
   "metadata": {
    "collapsed": false
   },
   "outputs": [
    {
     "name": "stdout",
     "output_type": "stream",
     "text": [
      "RSS on all test data for this model is 2.7026E+14\n"
     ]
    }
   ],
   "source": [
    "test_2_RSS = reg.get_residual_sum_of_squares_multiple_models(kc_house_test_data, ['constant', 'sqft_living', 'sqft_living15'], 'price', feature_weights)\n",
    "print('RSS on all test data for this model is %.4E' % test_2_RSS)"
   ]
  },
  {
   "cell_type": "code",
   "execution_count": null,
   "metadata": {
    "collapsed": true
   },
   "outputs": [],
   "source": []
  }
 ],
 "metadata": {
  "kernelspec": {
   "display_name": "Python 3",
   "language": "python",
   "name": "python3"
  },
  "language_info": {
   "codemirror_mode": {
    "name": "ipython",
    "version": 3
   },
   "file_extension": ".py",
   "mimetype": "text/x-python",
   "name": "python",
   "nbconvert_exporter": "python",
   "pygments_lexer": "ipython3",
   "version": "3.5.2"
  }
 },
 "nbformat": 4,
 "nbformat_minor": 0
}
