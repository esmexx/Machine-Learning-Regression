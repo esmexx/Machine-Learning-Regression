{
 "cells": [
  {
   "cell_type": "code",
   "execution_count": 1,
   "metadata": {
    "collapsed": false
   },
   "outputs": [],
   "source": [
    "import pandas as pd\n",
    "import numpy as np\n",
    "from math import log\n",
    "# import regression tools\n",
    "import sys\n",
    "sys.path.append(r'../')\n",
    "import RegressionTools as reg"
   ]
  },
  {
   "cell_type": "code",
   "execution_count": 2,
   "metadata": {
    "collapsed": true
   },
   "outputs": [],
   "source": [
    "dtype_dict = {'bathrooms':float, 'waterfront':int, 'sqft_above':int, 'sqft_living15':float, 'grade':int, 'yr_renovated':int, \n",
    "              'price':float, 'bedrooms':float, 'zipcode':str, 'long':float, 'sqft_lot15':float, 'sqft_living':float, \n",
    "              'floors':str, 'condition':int, 'lat':float, 'date':str, 'sqft_basement':int, 'yr_built':int, 'id':str, \n",
    "              'sqft_lot':int, 'view':int}"
   ]
  },
  {
   "cell_type": "code",
   "execution_count": 3,
   "metadata": {
    "collapsed": true
   },
   "outputs": [],
   "source": [
    "# load all csv files\n",
    "kc_house_train_data = pd.read_csv('kc_house_train_data.csv', dtype = dtype_dict)\n",
    "kc_house_test_data = pd.read_csv('kc_house_test_data.csv', dtype = dtype_dict)"
   ]
  },
  {
   "cell_type": "code",
   "execution_count": 4,
   "metadata": {
    "collapsed": false
   },
   "outputs": [
    {
     "data": {
      "text/plain": [
       "array([ 3.,  2.,  1.])"
      ]
     },
     "execution_count": 4,
     "metadata": {},
     "output_type": "execute_result"
    }
   ],
   "source": [
    "# verify function\n",
    "example_features = ['sqft_living', 'bedrooms', 'bathrooms']\n",
    "kc_house_train_data['example_price'] = 3.0 * kc_house_train_data['sqft_living'] + 2.0 * kc_house_train_data['bedrooms'] + 1.0 * kc_house_train_data['bathrooms']\n",
    "example_coeffs = reg.multiple_linear_regression(kc_house_train_data, example_features, 'example_price')\n",
    "example_coeffs"
   ]
  },
  {
   "cell_type": "code",
   "execution_count": 5,
   "metadata": {
    "collapsed": false
   },
   "outputs": [
    {
     "data": {
      "text/plain": [
       "1.9307037854432102e-19"
      ]
     },
     "execution_count": 5,
     "metadata": {},
     "output_type": "execute_result"
    }
   ],
   "source": [
    "example_RSS = reg.get_residual_sum_of_squares_multiple_models(kc_house_train_data, example_features, 'example_price', example_coeffs)\n",
    "example_RSS"
   ]
  },
  {
   "cell_type": "code",
   "execution_count": 6,
   "metadata": {
    "collapsed": false
   },
   "outputs": [
    {
     "data": {
      "text/plain": [
       "array([   308.93552416, -44362.93724549,  19283.82752088])"
      ]
     },
     "execution_count": 6,
     "metadata": {},
     "output_type": "execute_result"
    }
   ],
   "source": [
    "sample_coeffs = reg.multiple_linear_regression(kc_house_train_data, example_features, 'price')\n",
    "sample_coeffs"
   ]
  },
  {
   "cell_type": "code",
   "execution_count": 7,
   "metadata": {
    "collapsed": false
   },
   "outputs": [
    {
     "ename": "NameError",
     "evalue": "name 'multiple_linear_regression' is not defined",
     "output_type": "error",
     "traceback": [
      "\u001b[1;31m---------------------------------------------------------------------------\u001b[0m",
      "\u001b[1;31mNameError\u001b[0m                                 Traceback (most recent call last)",
      "\u001b[1;32m<ipython-input-7-da67f92544bb>\u001b[0m in \u001b[0;36m<module>\u001b[1;34m()\u001b[0m\n\u001b[0;32m      1\u001b[0m \u001b[1;31m# given example\u001b[0m\u001b[1;33m\u001b[0m\u001b[1;33m\u001b[0m\u001b[0m\n\u001b[1;32m----> 2\u001b[1;33m \u001b[0msample_coeffs\u001b[0m \u001b[1;33m=\u001b[0m \u001b[0mmultiple_linear_regression\u001b[0m\u001b[1;33m(\u001b[0m\u001b[0mkc_house_train_data\u001b[0m\u001b[1;33m,\u001b[0m \u001b[0mexample_features\u001b[0m\u001b[1;33m,\u001b[0m \u001b[1;34m'price'\u001b[0m\u001b[1;33m)\u001b[0m\u001b[1;33m\u001b[0m\u001b[0m\n\u001b[0m\u001b[0;32m      3\u001b[0m \u001b[0msample_feature_matrix\u001b[0m \u001b[1;33m=\u001b[0m \u001b[0mkc_house_train_data\u001b[0m\u001b[1;33m[\u001b[0m\u001b[0mexample_features\u001b[0m\u001b[1;33m[\u001b[0m\u001b[1;36m0\u001b[0m\u001b[1;33m]\u001b[0m\u001b[1;33m]\u001b[0m\u001b[1;33m[\u001b[0m\u001b[1;36m0\u001b[0m\u001b[1;33m]\u001b[0m\u001b[1;33m\u001b[0m\u001b[0m\n\u001b[0;32m      4\u001b[0m \u001b[0msample_feature_matrix\u001b[0m \u001b[1;33m=\u001b[0m \u001b[0mnp\u001b[0m\u001b[1;33m.\u001b[0m\u001b[0mvstack\u001b[0m\u001b[1;33m(\u001b[0m\u001b[1;33m(\u001b[0m\u001b[0msample_feature_matrix\u001b[0m\u001b[1;33m,\u001b[0m \u001b[0mkc_house_train_data\u001b[0m\u001b[1;33m[\u001b[0m\u001b[0mexample_features\u001b[0m\u001b[1;33m[\u001b[0m\u001b[1;36m1\u001b[0m\u001b[1;33m]\u001b[0m\u001b[1;33m]\u001b[0m\u001b[1;33m[\u001b[0m\u001b[1;36m0\u001b[0m\u001b[1;33m]\u001b[0m\u001b[1;33m)\u001b[0m\u001b[1;33m)\u001b[0m\u001b[1;33m\u001b[0m\u001b[0m\n\u001b[0;32m      5\u001b[0m \u001b[0msample_feature_matrix\u001b[0m \u001b[1;33m=\u001b[0m \u001b[0mnp\u001b[0m\u001b[1;33m.\u001b[0m\u001b[0mvstack\u001b[0m\u001b[1;33m(\u001b[0m\u001b[1;33m(\u001b[0m\u001b[0msample_feature_matrix\u001b[0m\u001b[1;33m,\u001b[0m \u001b[0mkc_house_train_data\u001b[0m\u001b[1;33m[\u001b[0m\u001b[0mexample_features\u001b[0m\u001b[1;33m[\u001b[0m\u001b[1;36m2\u001b[0m\u001b[1;33m]\u001b[0m\u001b[1;33m]\u001b[0m\u001b[1;33m[\u001b[0m\u001b[1;36m0\u001b[0m\u001b[1;33m]\u001b[0m\u001b[1;33m)\u001b[0m\u001b[1;33m)\u001b[0m\u001b[1;33m\u001b[0m\u001b[0m\n",
      "\u001b[1;31mNameError\u001b[0m: name 'multiple_linear_regression' is not defined"
     ]
    }
   ],
   "source": [
    "# given example\n",
    "sample_coeffs = reg.multiple_linear_regression(kc_house_train_data, example_features, 'price')\n",
    "sample_feature_matrix = kc_house_train_data[example_features[0]][0]\n",
    "sample_feature_matrix = np.vstack((sample_feature_matrix, kc_house_train_data[example_features[1]][0]))\n",
    "sample_feature_matrix = np.vstack((sample_feature_matrix, kc_house_train_data[example_features[2]][0]))\n",
    "print('predicted house price is %.6f ' % sample_feature_matrix.T.dot(sample_coeffs))"
   ]
  },
  {
   "cell_type": "markdown",
   "metadata": {},
   "source": [
    "## Programming assignment 1: Multiple Regression Models"
   ]
  },
  {
   "cell_type": "markdown",
   "metadata": {},
   "source": [
    "### Create new features"
   ]
  },
  {
   "cell_type": "code",
   "execution_count": null,
   "metadata": {
    "collapsed": false
   },
   "outputs": [],
   "source": [
    "kc_house_train_data['bedrooms_squared'] = kc_house_train_data['bedrooms'].apply(lambda x: x**2)\n",
    "kc_house_train_data['bed_bath_rooms']   = kc_house_train_data['bedrooms'] * kc_house_train_data['bathrooms']\n",
    "kc_house_train_data['log_sqft_living']  = kc_house_train_data['sqft_living'].apply(lambda x: log(x))\n",
    "kc_house_train_data['lat_plus_long']    = kc_house_train_data['lat'] + kc_house_train_data['long']"
   ]
  },
  {
   "cell_type": "code",
   "execution_count": null,
   "metadata": {
    "collapsed": true
   },
   "outputs": [],
   "source": [
    "kc_house_test_data['bedrooms_squared'] = kc_house_test_data['bedrooms'].apply(lambda x: x**2)\n",
    "kc_house_test_data['bed_bath_rooms']   = kc_house_test_data['bedrooms'] * kc_house_test_data['bathrooms']\n",
    "kc_house_test_data['log_sqft_living']  = kc_house_test_data['sqft_living'].apply(lambda x: log(x))\n",
    "kc_house_test_data['lat_plus_long']    = kc_house_test_data['lat'] + kc_house_test_data['long']"
   ]
  },
  {
   "cell_type": "code",
   "execution_count": null,
   "metadata": {
    "collapsed": false
   },
   "outputs": [],
   "source": [
    "print('bedrooms_squared mean: %.2f' % kc_house_test_data['bedrooms_squared'].mean())\n",
    "print('bed_bath_rooms mean:   %.2f' % kc_house_test_data['bed_bath_rooms'].mean())\n",
    "print('log_sqft_living mean:  %.2f' % kc_house_test_data['log_sqft_living'].mean())\n",
    "print('lat_plus_long mean:    %.2f' % kc_house_test_data['lat_plus_long'].mean())"
   ]
  },
  {
   "cell_type": "markdown",
   "metadata": {},
   "source": [
    "### Learning multiple models"
   ]
  },
  {
   "cell_type": "code",
   "execution_count": null,
   "metadata": {
    "collapsed": false
   },
   "outputs": [],
   "source": [
    "model_1_features = ['sqft_living', 'bedrooms', 'bathrooms', 'lat', 'long']\n",
    "model_2_features = model_1_features + ['bed_bath_rooms']\n",
    "model_3_features = model_2_features + ['bedrooms_squared', 'log_sqft_living', 'lat_plus_long']"
   ]
  },
  {
   "cell_type": "code",
   "execution_count": null,
   "metadata": {
    "collapsed": false
   },
   "outputs": [],
   "source": [
    "model_1_coeffs = reg.multiple_linear_regression(kc_house_train_data, model_1_features, 'price')\n",
    "pd.DataFrame(model_1_coeffs, model_1_features)"
   ]
  },
  {
   "cell_type": "code",
   "execution_count": null,
   "metadata": {
    "collapsed": false
   },
   "outputs": [],
   "source": [
    "model_2_coeffs = reg.multiple_linear_regression(kc_house_train_data, model_2_features, 'price')\n",
    "pd.DataFrame(model_2_coeffs, model_2_features)"
   ]
  },
  {
   "cell_type": "code",
   "execution_count": null,
   "metadata": {
    "collapsed": false
   },
   "outputs": [],
   "source": [
    "model_3_coeffs = reg.multiple_linear_regression(kc_house_train_data, model_3_features, 'price')\n",
    "pd.DataFrame(model_3_coeffs, model_3_features)"
   ]
  },
  {
   "cell_type": "markdown",
   "metadata": {},
   "source": [
    "### Comparing multiple models"
   ]
  },
  {
   "cell_type": "code",
   "execution_count": null,
   "metadata": {
    "collapsed": false
   },
   "outputs": [],
   "source": [
    "# on training data\n",
    "model_1_RSS = reg.get_residual_sum_of_squares_multiple_models(kc_house_train_data, model_1_features, 'price', model_1_coeffs)\n",
    "model_2_RSS = reg.get_residual_sum_of_squares_multiple_models(kc_house_train_data, model_2_features, 'price', model_2_coeffs)\n",
    "model_3_RSS = reg.get_residual_sum_of_squares_multiple_models(kc_house_train_data, model_3_features, 'price', model_3_coeffs)\n",
    "print('RSS results: \\nmodel 1 = %.4E, model 2 = %.4E, model 3 = %.4E' % (model_1_RSS, model_2_RSS, model_3_RSS))"
   ]
  },
  {
   "cell_type": "code",
   "execution_count": null,
   "metadata": {
    "collapsed": false
   },
   "outputs": [],
   "source": [
    "# on training data\n",
    "model_1_RSS = reg.get_residual_sum_of_squares_multiple_models(kc_house_test_data, model_1_features, 'price', model_1_coeffs)\n",
    "model_2_RSS = reg.get_residual_sum_of_squares_multiple_models(kc_house_test_data, model_2_features, 'price', model_2_coeffs)\n",
    "model_3_RSS = reg.get_residual_sum_of_squares_multiple_models(kc_house_test_data, model_3_features, 'price', model_3_coeffs)\n",
    "print('RSS results: \\nmodel 1 = %.4E, model 2 = %.4E, model 3 = %.4E' % (model_1_RSS, model_2_RSS, model_3_RSS))"
   ]
  },
  {
   "cell_type": "markdown",
   "metadata": {},
   "source": [
    "##  Programming assignment 2: Gradient Descent"
   ]
  },
  {
   "cell_type": "code",
   "execution_count": null,
   "metadata": {
    "collapsed": false
   },
   "outputs": [],
   "source": [
    "def get_numpy_data(data, input_features, ouput_feature):\n",
    "    N = len(data[input_features[0]])\n",
    "    data['constant'] = np.ones(data[input_features[0]].shape) # add a constant column\n",
    "    features_matrix = data['constant'].reshape(N,1)\n",
    "    for i in range(0, len(input_features)):\n",
    "        features_matrix = np.hstack((features_matrix, data[input_features[i]].reshape(N,1)))\n",
    "    output_vector = np.array(data[ouput_feature])\n",
    "    return np.array(features_matrix), output_vector\n",
    "#     data['constant'] = np.ones(data[input_features[0]].shape) # add a constant column\n",
    "#     features_matrix = data['constant']\n",
    "#     for i in range(0, len(input_features)):\n",
    "#         features_matrix = np.vstack((features_matrix, data[input_features[i]]))\n",
    "#     features_matrix = np.array(features_matrix)\n",
    "#     output_vector = np.array(data[ouput_feature])\n",
    "#     return(features_matrix, output_vector)\n",
    "\n",
    "def predict_outcome(feature_matrix, weights):\n",
    "    if np.any(np.array(feature_matrix.shape) > 1):\n",
    "        return feature_matrix.dot(weights)\n",
    "    return feature_matrix * weights\n",
    "    \n",
    "def regression_gradient_descent(features_matrix, output, initial_weights, step_size, tolerance, max_iter):\n",
    "    converged = False\n",
    "    weights = np.array(initial_weights)\n",
    "    iterator = 0\n",
    "    while not converged:\n",
    "        gradient_rss = -2.0 * features_matrix.T.dot(output - predict_outcome(features_matrix, weights))\n",
    "        gradient_magnitude = np.sqrt((gradient_rss ** 2).sum())\n",
    "        weights = weights - step_size * gradient_rss\n",
    "        if iterator % 10 == 0:\n",
    "            print('%4d gradient magnitude is: %.5E' % (iterator, gradient_magnitude))\n",
    "        iterator = iterator + 1\n",
    "        if gradient_magnitude < tolerance:\n",
    "            converged = True\n",
    "        if iterator > max_iter:\n",
    "            converged = True\n",
    "    \n",
    "    print('%4d gradient magnitude is: %.5E' % (iterator, gradient_magnitude))\n",
    "    return(weights)\n",
    "#     converged = False\n",
    "#     weights = np.array(initial_weights)\n",
    "#     iterator = 0\n",
    "#     while not converged:\n",
    "#         gradient_rss = -2.0 * features_matrix.dot(output - weights.dot(features_matrix))\n",
    "#         gradient_magnitude = np.sqrt((gradient_rss ** 2).sum())\n",
    "#         weights = weights - step_size * gradient_rss\n",
    "#         if iterator % 10 == 0:\n",
    "#             print('%4d gradient magnitude is: %.5E' % (iterator, gradient_magnitude))\n",
    "#         iterator = iterator + 1\n",
    "#         if gradient_magnitude < tolerance:\n",
    "#             converged = True\n",
    "#         if iterator > max_iter:\n",
    "#             converged = True\n",
    "    \n",
    "#     print('%4d gradient magnitude is: %.5E' % (iterator, gradient_magnitude))\n",
    "#     return(weights)"
   ]
  },
  {
   "cell_type": "markdown",
   "metadata": {},
   "source": [
    "#### Simple 1D Model"
   ]
  },
  {
   "cell_type": "code",
   "execution_count": null,
   "metadata": {
    "collapsed": false
   },
   "outputs": [],
   "source": [
    "simple_features = ['sqft_living']\n",
    "my_output= 'price'\n",
    "simple_feature_matrix, output = get_numpy_data(kc_house_train_data, simple_features, my_output)\n",
    "initial_weights = np.array([-47000., 1.])\n",
    "step_size = 7e-12\n",
    "tolerance = 2.5e7\n",
    "max_iter = 500"
   ]
  },
  {
   "cell_type": "code",
   "execution_count": null,
   "metadata": {
    "collapsed": false,
    "scrolled": false
   },
   "outputs": [],
   "source": [
    "simple_weights = regression_gradient_descent(simple_feature_matrix, output, initial_weights, step_size, tolerance, max_iter)"
   ]
  },
  {
   "cell_type": "code",
   "execution_count": null,
   "metadata": {
    "collapsed": false
   },
   "outputs": [],
   "source": [
    "print('The value of the weight for sqft_living is %.1f' % simple_weights[1])"
   ]
  },
  {
   "cell_type": "code",
   "execution_count": null,
   "metadata": {
    "collapsed": false
   },
   "outputs": [],
   "source": [
    "test_simple_feature_matrix, test_output = get_numpy_data(kc_house_test_data, simple_features, my_output)\n",
    "predicted_price = predict_outcome(test_simple_feature_matrix[0], simple_weights)\n",
    "print('The predicted price for the 1st house in the Test data set for model 1 is %d' % predicted_price)"
   ]
  },
  {
   "cell_type": "code",
   "execution_count": null,
   "metadata": {
    "collapsed": false
   },
   "outputs": [],
   "source": [
    "test_1_RSS = reg.get_residual_sum_of_squares_multiple_models(kc_house_test_data, ['constant', 'sqft_living'], 'price', simple_weights)\n",
    "print('RSS on all test data for this model is %.4E' % test_1_RSS)"
   ]
  },
  {
   "cell_type": "markdown",
   "metadata": {},
   "source": [
    "#### 2D Model"
   ]
  },
  {
   "cell_type": "code",
   "execution_count": null,
   "metadata": {
    "collapsed": false
   },
   "outputs": [],
   "source": [
    "model_features = ['sqft_living', 'sqft_living15']\n",
    "my_output = 'price'\n",
    "feature_matrix, output = get_numpy_data(kc_house_train_data, model_features,my_output)\n",
    "initial_weights = np.array([-100000., 1., 1.])\n",
    "step_size = 4e-12\n",
    "tolerance = 1e9\n",
    "max_iter = 500"
   ]
  },
  {
   "cell_type": "code",
   "execution_count": null,
   "metadata": {
    "collapsed": false
   },
   "outputs": [],
   "source": [
    "feature_weights = regression_gradient_descent(feature_matrix, output, initial_weights, step_size, tolerance, max_iter)"
   ]
  },
  {
   "cell_type": "code",
   "execution_count": null,
   "metadata": {
    "collapsed": false
   },
   "outputs": [],
   "source": [
    "pd.DataFrame(feature_weights, ['constant'] + model_features)"
   ]
  },
  {
   "cell_type": "code",
   "execution_count": null,
   "metadata": {
    "collapsed": false
   },
   "outputs": [],
   "source": [
    "test_multiple_feature_matrix, test_output = get_numpy_data(kc_house_test_data, model_features, my_output)\n",
    "predicted_price = predict_outcome(test_multiple_feature_matrix[0], feature_weights)\n",
    "print('The predicted price for the 1st house in the Test data set for model 1 is %d' % predicted_price)\n",
    "print('The actual price for the 1st house in the Test data set is %d' % kc_house_test_data['price'][0])"
   ]
  },
  {
   "cell_type": "code",
   "execution_count": null,
   "metadata": {
    "collapsed": false
   },
   "outputs": [],
   "source": [
    "test_2_RSS = reg.get_residual_sum_of_squares_multiple_models(kc_house_test_data, ['constant', 'sqft_living', 'sqft_living15'], 'price', feature_weights)\n",
    "print('RSS on all test data for this model is %.4E' % test_2_RSS)"
   ]
  },
  {
   "cell_type": "code",
   "execution_count": null,
   "metadata": {
    "collapsed": true
   },
   "outputs": [],
   "source": []
  }
 ],
 "metadata": {
  "kernelspec": {
   "display_name": "Python 3",
   "language": "python",
   "name": "python3"
  },
  "language_info": {
   "codemirror_mode": {
    "name": "ipython",
    "version": 3
   },
   "file_extension": ".py",
   "mimetype": "text/x-python",
   "name": "python",
   "nbconvert_exporter": "python",
   "pygments_lexer": "ipython3",
   "version": "3.5.2"
  }
 },
 "nbformat": 4,
 "nbformat_minor": 0
}
